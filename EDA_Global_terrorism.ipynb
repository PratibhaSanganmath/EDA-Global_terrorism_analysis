{
  "nbformat": 4,
  "nbformat_minor": 0,
  "metadata": {
    "colab": {
      "name": "EDA_Global_terrorism.ipynb",
      "provenance": [],
      "authorship_tag": "ABX9TyNgYLGePnrRQi6EPBaj7ImH",
      "include_colab_link": true
    },
    "kernelspec": {
      "name": "python3",
      "display_name": "Python 3"
    },
    "language_info": {
      "name": "python"
    },
    "widgets": {
      "application/vnd.jupyter.widget-state+json": {
        "5b84abccbd844ef89517cbebb373c296": {
          "model_module": "@jupyter-widgets/controls",
          "model_name": "VBoxModel",
          "model_module_version": "1.5.0",
          "state": {
            "_view_name": "VBoxView",
            "_dom_classes": [
              "widget-interact"
            ],
            "_model_name": "VBoxModel",
            "_view_module": "@jupyter-widgets/controls",
            "_model_module_version": "1.5.0",
            "_view_count": null,
            "_view_module_version": "1.5.0",
            "box_style": "",
            "layout": "IPY_MODEL_43ec75627b6841919e7236bbe9ef830b",
            "_model_module": "@jupyter-widgets/controls",
            "children": [
              "IPY_MODEL_863d7ceab9fa4fb29f1c7d74db409162",
              "IPY_MODEL_d69fd94c4da848d693250266cf5fdda8"
            ]
          }
        },
        "43ec75627b6841919e7236bbe9ef830b": {
          "model_module": "@jupyter-widgets/base",
          "model_name": "LayoutModel",
          "model_module_version": "1.2.0",
          "state": {
            "_view_name": "LayoutView",
            "grid_template_rows": null,
            "right": null,
            "justify_content": null,
            "_view_module": "@jupyter-widgets/base",
            "overflow": null,
            "_model_module_version": "1.2.0",
            "_view_count": null,
            "flex_flow": null,
            "width": null,
            "min_width": null,
            "border": null,
            "align_items": null,
            "bottom": null,
            "_model_module": "@jupyter-widgets/base",
            "top": null,
            "grid_column": null,
            "overflow_y": null,
            "overflow_x": null,
            "grid_auto_flow": null,
            "grid_area": null,
            "grid_template_columns": null,
            "flex": null,
            "_model_name": "LayoutModel",
            "justify_items": null,
            "grid_row": null,
            "max_height": null,
            "align_content": null,
            "visibility": null,
            "align_self": null,
            "height": null,
            "min_height": null,
            "padding": null,
            "grid_auto_rows": null,
            "grid_gap": null,
            "max_width": null,
            "order": null,
            "_view_module_version": "1.2.0",
            "grid_template_areas": null,
            "object_position": null,
            "object_fit": null,
            "grid_auto_columns": null,
            "margin": null,
            "display": null,
            "left": null
          }
        },
        "863d7ceab9fa4fb29f1c7d74db409162": {
          "model_module": "@jupyter-widgets/controls",
          "model_name": "DropdownModel",
          "model_module_version": "1.5.0",
          "state": {
            "_options_labels": [
              "1970",
              "1971",
              "1972",
              "1973",
              "1974",
              "1975",
              "1976",
              "1977",
              "1978",
              "1979",
              "1980",
              "1981",
              "1986",
              "1982",
              "1983",
              "1984",
              "1985",
              "1987",
              "1988",
              "1989",
              "1990",
              "1991",
              "1992",
              "1994",
              "1995",
              "1996",
              "1997",
              "1998",
              "1999",
              "2000",
              "2001",
              "2002",
              "2003",
              "2004",
              "2005",
              "2006",
              "2007",
              "2008",
              "2009",
              "2010",
              "2011",
              "2012",
              "2013",
              "2014",
              "2015",
              "2016",
              "2017"
            ],
            "_view_name": "DropdownView",
            "style": "IPY_MODEL_31a0a2ad30c04a71a031041d27a7f1a1",
            "_dom_classes": [],
            "description": "year",
            "_model_name": "DropdownModel",
            "index": 0,
            "_view_module": "@jupyter-widgets/controls",
            "_model_module_version": "1.5.0",
            "_view_count": null,
            "disabled": false,
            "_view_module_version": "1.5.0",
            "description_tooltip": null,
            "_model_module": "@jupyter-widgets/controls",
            "layout": "IPY_MODEL_0f10f4a836bd4225a4e7d26f907e407d"
          }
        },
        "d69fd94c4da848d693250266cf5fdda8": {
          "model_module": "@jupyter-widgets/output",
          "model_name": "OutputModel",
          "model_module_version": "1.0.0",
          "state": {
            "_view_name": "OutputView",
            "msg_id": "",
            "_dom_classes": [],
            "_model_name": "OutputModel",
            "outputs": [
              {
                "output_type": "display_data",
                "data": {
                  "image/png": "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\n",
                  "text/plain": "<Figure size 1440x360 with 1 Axes>"
                },
                "metadata": {
                  "needs_background": "light"
                }
              },
              {
                "output_type": "display_data",
                "data": {
                  "text/plain": "<matplotlib.axes._subplots.AxesSubplot at 0x7ff4d729b450>"
                },
                "metadata": {}
              }
            ],
            "_view_module": "@jupyter-widgets/output",
            "_model_module_version": "1.0.0",
            "_view_count": null,
            "_view_module_version": "1.0.0",
            "layout": "IPY_MODEL_9c985717995a4532a55fd413ce38557e",
            "_model_module": "@jupyter-widgets/output"
          }
        },
        "31a0a2ad30c04a71a031041d27a7f1a1": {
          "model_module": "@jupyter-widgets/controls",
          "model_name": "DescriptionStyleModel",
          "model_module_version": "1.5.0",
          "state": {
            "_view_name": "StyleView",
            "_model_name": "DescriptionStyleModel",
            "description_width": "",
            "_view_module": "@jupyter-widgets/base",
            "_model_module_version": "1.5.0",
            "_view_count": null,
            "_view_module_version": "1.2.0",
            "_model_module": "@jupyter-widgets/controls"
          }
        },
        "0f10f4a836bd4225a4e7d26f907e407d": {
          "model_module": "@jupyter-widgets/base",
          "model_name": "LayoutModel",
          "model_module_version": "1.2.0",
          "state": {
            "_view_name": "LayoutView",
            "grid_template_rows": null,
            "right": null,
            "justify_content": null,
            "_view_module": "@jupyter-widgets/base",
            "overflow": null,
            "_model_module_version": "1.2.0",
            "_view_count": null,
            "flex_flow": null,
            "width": null,
            "min_width": null,
            "border": null,
            "align_items": null,
            "bottom": null,
            "_model_module": "@jupyter-widgets/base",
            "top": null,
            "grid_column": null,
            "overflow_y": null,
            "overflow_x": null,
            "grid_auto_flow": null,
            "grid_area": null,
            "grid_template_columns": null,
            "flex": null,
            "_model_name": "LayoutModel",
            "justify_items": null,
            "grid_row": null,
            "max_height": null,
            "align_content": null,
            "visibility": null,
            "align_self": null,
            "height": null,
            "min_height": null,
            "padding": null,
            "grid_auto_rows": null,
            "grid_gap": null,
            "max_width": null,
            "order": null,
            "_view_module_version": "1.2.0",
            "grid_template_areas": null,
            "object_position": null,
            "object_fit": null,
            "grid_auto_columns": null,
            "margin": null,
            "display": null,
            "left": null
          }
        },
        "9c985717995a4532a55fd413ce38557e": {
          "model_module": "@jupyter-widgets/base",
          "model_name": "LayoutModel",
          "model_module_version": "1.2.0",
          "state": {
            "_view_name": "LayoutView",
            "grid_template_rows": null,
            "right": null,
            "justify_content": null,
            "_view_module": "@jupyter-widgets/base",
            "overflow": null,
            "_model_module_version": "1.2.0",
            "_view_count": null,
            "flex_flow": null,
            "width": null,
            "min_width": null,
            "border": null,
            "align_items": null,
            "bottom": null,
            "_model_module": "@jupyter-widgets/base",
            "top": null,
            "grid_column": null,
            "overflow_y": null,
            "overflow_x": null,
            "grid_auto_flow": null,
            "grid_area": null,
            "grid_template_columns": null,
            "flex": null,
            "_model_name": "LayoutModel",
            "justify_items": null,
            "grid_row": null,
            "max_height": null,
            "align_content": null,
            "visibility": null,
            "align_self": null,
            "height": null,
            "min_height": null,
            "padding": null,
            "grid_auto_rows": null,
            "grid_gap": null,
            "max_width": null,
            "order": null,
            "_view_module_version": "1.2.0",
            "grid_template_areas": null,
            "object_position": null,
            "object_fit": null,
            "grid_auto_columns": null,
            "margin": null,
            "display": null,
            "left": null
          }
        }
      }
    }
  },
  "cells": [
    {
      "cell_type": "markdown",
      "metadata": {
        "id": "view-in-github",
        "colab_type": "text"
      },
      "source": [
        "<a href=\"https://colab.research.google.com/github/PratibhaSanganmath/EDA-Global_terrorism_analysis/blob/main/EDA_Global_terrorism.ipynb\" target=\"_parent\"><img src=\"https://colab.research.google.com/assets/colab-badge.svg\" alt=\"Open In Colab\"/></a>"
      ]
    },
    {
      "cell_type": "markdown",
      "metadata": {
        "id": "n3GCxeQSX_vh"
      },
      "source": [
        "## <b> The Global Terrorism Database (GTD) is an open-source database including information on terrorist attacks around the world from 1970 through 2017. The GTD includes systematic data on domestic as well as international terrorist incidents that have occurred during this time period and now includes more than 180,000 attacks. The database is maintained by researchers at the National Consortium for the Study of Terrorism and Responses to Terrorism (START), headquartered at the University of Maryland.</b>\n",
        "\n",
        "# <b> Explore and analyze the data to discover key findings pertaining to terrorist activities. </b>"
      ]
    },
    {
      "cell_type": "code",
      "metadata": {
        "colab": {
          "base_uri": "https://localhost:8080/"
        },
        "id": "QHSwVgFuYgNX",
        "outputId": "46c2750d-2d65-429b-b9b2-3a58e0aa8caf"
      },
      "source": [
        "from google.colab import drive\n",
        "drive.mount('/content/drive')"
      ],
      "execution_count": 1,
      "outputs": [
        {
          "output_type": "stream",
          "name": "stdout",
          "text": [
            "Mounted at /content/drive\n"
          ]
        }
      ]
    },
    {
      "cell_type": "markdown",
      "metadata": {
        "id": "ae_kv-M-ZJ62"
      },
      "source": [
        "## Importing libraries"
      ]
    },
    {
      "cell_type": "code",
      "metadata": {
        "id": "_3SfIKh8ZCxq"
      },
      "source": [
        "import numpy as np\n",
        "import pandas as pd\n",
        "import matplotlib.pyplot as plt\n",
        "import seaborn as sns\n",
        "%matplotlib inline"
      ],
      "execution_count": 2,
      "outputs": []
    },
    {
      "cell_type": "markdown",
      "metadata": {
        "id": "5n4taeTCZcPA"
      },
      "source": [
        "## lets read the data"
      ]
    },
    {
      "cell_type": "code",
      "metadata": {
        "id": "ehoOmEJkZhEb"
      },
      "source": [
        "#loading our csv file\n",
        "file_path='/content/drive/MyDrive/Global Terrorism Data.csv'\n",
        "df=pd.read_csv(file_path,engine='python')"
      ],
      "execution_count": 3,
      "outputs": []
    },
    {
      "cell_type": "code",
      "metadata": {
        "colab": {
          "base_uri": "https://localhost:8080/",
          "height": 958
        },
        "id": "BycRq9-VZwPq",
        "outputId": "06a9313f-8f78-473c-8c57-2e3667d00df9"
      },
      "source": [
        "df"
      ],
      "execution_count": 4,
      "outputs": [
        {
          "output_type": "execute_result",
          "data": {
            "text/html": [
              "<div>\n",
              "<style scoped>\n",
              "    .dataframe tbody tr th:only-of-type {\n",
              "        vertical-align: middle;\n",
              "    }\n",
              "\n",
              "    .dataframe tbody tr th {\n",
              "        vertical-align: top;\n",
              "    }\n",
              "\n",
              "    .dataframe thead th {\n",
              "        text-align: right;\n",
              "    }\n",
              "</style>\n",
              "<table border=\"1\" class=\"dataframe\">\n",
              "  <thead>\n",
              "    <tr style=\"text-align: right;\">\n",
              "      <th></th>\n",
              "      <th>eventid</th>\n",
              "      <th>iyear</th>\n",
              "      <th>imonth</th>\n",
              "      <th>iday</th>\n",
              "      <th>approxdate</th>\n",
              "      <th>extended</th>\n",
              "      <th>resolution</th>\n",
              "      <th>country</th>\n",
              "      <th>country_txt</th>\n",
              "      <th>region</th>\n",
              "      <th>region_txt</th>\n",
              "      <th>provstate</th>\n",
              "      <th>city</th>\n",
              "      <th>latitude</th>\n",
              "      <th>longitude</th>\n",
              "      <th>specificity</th>\n",
              "      <th>vicinity</th>\n",
              "      <th>location</th>\n",
              "      <th>summary</th>\n",
              "      <th>crit1</th>\n",
              "      <th>crit2</th>\n",
              "      <th>crit3</th>\n",
              "      <th>doubtterr</th>\n",
              "      <th>alternative</th>\n",
              "      <th>alternative_txt</th>\n",
              "      <th>multiple</th>\n",
              "      <th>success</th>\n",
              "      <th>suicide</th>\n",
              "      <th>attacktype1</th>\n",
              "      <th>attacktype1_txt</th>\n",
              "      <th>attacktype2</th>\n",
              "      <th>attacktype2_txt</th>\n",
              "      <th>attacktype3</th>\n",
              "      <th>attacktype3_txt</th>\n",
              "      <th>targtype1</th>\n",
              "      <th>targtype1_txt</th>\n",
              "      <th>targsubtype1</th>\n",
              "      <th>targsubtype1_txt</th>\n",
              "      <th>corp1</th>\n",
              "      <th>target1</th>\n",
              "      <th>...</th>\n",
              "      <th>weapsubtype4</th>\n",
              "      <th>weapsubtype4_txt</th>\n",
              "      <th>weapdetail</th>\n",
              "      <th>nkill</th>\n",
              "      <th>nkillus</th>\n",
              "      <th>nkillter</th>\n",
              "      <th>nwound</th>\n",
              "      <th>nwoundus</th>\n",
              "      <th>nwoundte</th>\n",
              "      <th>property</th>\n",
              "      <th>propextent</th>\n",
              "      <th>propextent_txt</th>\n",
              "      <th>propvalue</th>\n",
              "      <th>propcomment</th>\n",
              "      <th>ishostkid</th>\n",
              "      <th>nhostkid</th>\n",
              "      <th>nhostkidus</th>\n",
              "      <th>nhours</th>\n",
              "      <th>ndays</th>\n",
              "      <th>divert</th>\n",
              "      <th>kidhijcountry</th>\n",
              "      <th>ransom</th>\n",
              "      <th>ransomamt</th>\n",
              "      <th>ransomamtus</th>\n",
              "      <th>ransompaid</th>\n",
              "      <th>ransompaidus</th>\n",
              "      <th>ransomnote</th>\n",
              "      <th>hostkidoutcome</th>\n",
              "      <th>hostkidoutcome_txt</th>\n",
              "      <th>nreleased</th>\n",
              "      <th>addnotes</th>\n",
              "      <th>scite1</th>\n",
              "      <th>scite2</th>\n",
              "      <th>scite3</th>\n",
              "      <th>dbsource</th>\n",
              "      <th>INT_LOG</th>\n",
              "      <th>INT_IDEO</th>\n",
              "      <th>INT_MISC</th>\n",
              "      <th>INT_ANY</th>\n",
              "      <th>related</th>\n",
              "    </tr>\n",
              "  </thead>\n",
              "  <tbody>\n",
              "    <tr>\n",
              "      <th>0</th>\n",
              "      <td>197000000001</td>\n",
              "      <td>1970</td>\n",
              "      <td>7</td>\n",
              "      <td>2</td>\n",
              "      <td>NaN</td>\n",
              "      <td>0</td>\n",
              "      <td>NaN</td>\n",
              "      <td>58</td>\n",
              "      <td>Dominican Republic</td>\n",
              "      <td>2</td>\n",
              "      <td>Central America &amp; Caribbean</td>\n",
              "      <td>NaN</td>\n",
              "      <td>Santo Domingo</td>\n",
              "      <td>18.456792</td>\n",
              "      <td>-69.951164</td>\n",
              "      <td>1.0</td>\n",
              "      <td>0</td>\n",
              "      <td>NaN</td>\n",
              "      <td>NaN</td>\n",
              "      <td>1</td>\n",
              "      <td>1</td>\n",
              "      <td>1</td>\n",
              "      <td>0.0</td>\n",
              "      <td>NaN</td>\n",
              "      <td>NaN</td>\n",
              "      <td>0.0</td>\n",
              "      <td>1</td>\n",
              "      <td>0</td>\n",
              "      <td>1</td>\n",
              "      <td>Assassination</td>\n",
              "      <td>NaN</td>\n",
              "      <td>NaN</td>\n",
              "      <td>NaN</td>\n",
              "      <td>NaN</td>\n",
              "      <td>14</td>\n",
              "      <td>Private Citizens &amp; Property</td>\n",
              "      <td>68.0</td>\n",
              "      <td>Named Civilian</td>\n",
              "      <td>NaN</td>\n",
              "      <td>Julio Guzman</td>\n",
              "      <td>...</td>\n",
              "      <td>NaN</td>\n",
              "      <td>NaN</td>\n",
              "      <td>NaN</td>\n",
              "      <td>1.0</td>\n",
              "      <td>NaN</td>\n",
              "      <td>NaN</td>\n",
              "      <td>0.0</td>\n",
              "      <td>NaN</td>\n",
              "      <td>NaN</td>\n",
              "      <td>0</td>\n",
              "      <td>NaN</td>\n",
              "      <td>NaN</td>\n",
              "      <td>NaN</td>\n",
              "      <td>NaN</td>\n",
              "      <td>0.0</td>\n",
              "      <td>NaN</td>\n",
              "      <td>NaN</td>\n",
              "      <td>NaN</td>\n",
              "      <td>NaN</td>\n",
              "      <td>NaN</td>\n",
              "      <td>NaN</td>\n",
              "      <td>0.0</td>\n",
              "      <td>NaN</td>\n",
              "      <td>NaN</td>\n",
              "      <td>NaN</td>\n",
              "      <td>NaN</td>\n",
              "      <td>NaN</td>\n",
              "      <td>NaN</td>\n",
              "      <td>NaN</td>\n",
              "      <td>NaN</td>\n",
              "      <td>NaN</td>\n",
              "      <td>NaN</td>\n",
              "      <td>NaN</td>\n",
              "      <td>NaN</td>\n",
              "      <td>PGIS</td>\n",
              "      <td>0</td>\n",
              "      <td>0</td>\n",
              "      <td>0</td>\n",
              "      <td>0</td>\n",
              "      <td>NaN</td>\n",
              "    </tr>\n",
              "    <tr>\n",
              "      <th>1</th>\n",
              "      <td>197000000002</td>\n",
              "      <td>1970</td>\n",
              "      <td>0</td>\n",
              "      <td>0</td>\n",
              "      <td>NaN</td>\n",
              "      <td>0</td>\n",
              "      <td>NaN</td>\n",
              "      <td>130</td>\n",
              "      <td>Mexico</td>\n",
              "      <td>1</td>\n",
              "      <td>North America</td>\n",
              "      <td>Federal</td>\n",
              "      <td>Mexico city</td>\n",
              "      <td>19.371887</td>\n",
              "      <td>-99.086624</td>\n",
              "      <td>1.0</td>\n",
              "      <td>0</td>\n",
              "      <td>NaN</td>\n",
              "      <td>NaN</td>\n",
              "      <td>1</td>\n",
              "      <td>1</td>\n",
              "      <td>1</td>\n",
              "      <td>0.0</td>\n",
              "      <td>NaN</td>\n",
              "      <td>NaN</td>\n",
              "      <td>0.0</td>\n",
              "      <td>1</td>\n",
              "      <td>0</td>\n",
              "      <td>6</td>\n",
              "      <td>Hostage Taking (Kidnapping)</td>\n",
              "      <td>NaN</td>\n",
              "      <td>NaN</td>\n",
              "      <td>NaN</td>\n",
              "      <td>NaN</td>\n",
              "      <td>7</td>\n",
              "      <td>Government (Diplomatic)</td>\n",
              "      <td>45.0</td>\n",
              "      <td>Diplomatic Personnel (outside of embassy, cons...</td>\n",
              "      <td>Belgian Ambassador Daughter</td>\n",
              "      <td>Nadine Chaval, daughter</td>\n",
              "      <td>...</td>\n",
              "      <td>NaN</td>\n",
              "      <td>NaN</td>\n",
              "      <td>NaN</td>\n",
              "      <td>0.0</td>\n",
              "      <td>NaN</td>\n",
              "      <td>NaN</td>\n",
              "      <td>0.0</td>\n",
              "      <td>NaN</td>\n",
              "      <td>NaN</td>\n",
              "      <td>0</td>\n",
              "      <td>NaN</td>\n",
              "      <td>NaN</td>\n",
              "      <td>NaN</td>\n",
              "      <td>NaN</td>\n",
              "      <td>1.0</td>\n",
              "      <td>1.0</td>\n",
              "      <td>0.0</td>\n",
              "      <td>NaN</td>\n",
              "      <td>NaN</td>\n",
              "      <td>NaN</td>\n",
              "      <td>Mexico</td>\n",
              "      <td>1.0</td>\n",
              "      <td>800000.0</td>\n",
              "      <td>NaN</td>\n",
              "      <td>NaN</td>\n",
              "      <td>NaN</td>\n",
              "      <td>NaN</td>\n",
              "      <td>NaN</td>\n",
              "      <td>NaN</td>\n",
              "      <td>NaN</td>\n",
              "      <td>NaN</td>\n",
              "      <td>NaN</td>\n",
              "      <td>NaN</td>\n",
              "      <td>NaN</td>\n",
              "      <td>PGIS</td>\n",
              "      <td>0</td>\n",
              "      <td>1</td>\n",
              "      <td>1</td>\n",
              "      <td>1</td>\n",
              "      <td>NaN</td>\n",
              "    </tr>\n",
              "    <tr>\n",
              "      <th>2</th>\n",
              "      <td>197001000001</td>\n",
              "      <td>1970</td>\n",
              "      <td>1</td>\n",
              "      <td>0</td>\n",
              "      <td>NaN</td>\n",
              "      <td>0</td>\n",
              "      <td>NaN</td>\n",
              "      <td>160</td>\n",
              "      <td>Philippines</td>\n",
              "      <td>5</td>\n",
              "      <td>Southeast Asia</td>\n",
              "      <td>Tarlac</td>\n",
              "      <td>Unknown</td>\n",
              "      <td>15.478598</td>\n",
              "      <td>120.599741</td>\n",
              "      <td>4.0</td>\n",
              "      <td>0</td>\n",
              "      <td>NaN</td>\n",
              "      <td>NaN</td>\n",
              "      <td>1</td>\n",
              "      <td>1</td>\n",
              "      <td>1</td>\n",
              "      <td>0.0</td>\n",
              "      <td>NaN</td>\n",
              "      <td>NaN</td>\n",
              "      <td>0.0</td>\n",
              "      <td>1</td>\n",
              "      <td>0</td>\n",
              "      <td>1</td>\n",
              "      <td>Assassination</td>\n",
              "      <td>NaN</td>\n",
              "      <td>NaN</td>\n",
              "      <td>NaN</td>\n",
              "      <td>NaN</td>\n",
              "      <td>10</td>\n",
              "      <td>Journalists &amp; Media</td>\n",
              "      <td>54.0</td>\n",
              "      <td>Radio Journalist/Staff/Facility</td>\n",
              "      <td>Voice of America</td>\n",
              "      <td>Employee</td>\n",
              "      <td>...</td>\n",
              "      <td>NaN</td>\n",
              "      <td>NaN</td>\n",
              "      <td>NaN</td>\n",
              "      <td>1.0</td>\n",
              "      <td>NaN</td>\n",
              "      <td>NaN</td>\n",
              "      <td>0.0</td>\n",
              "      <td>NaN</td>\n",
              "      <td>NaN</td>\n",
              "      <td>0</td>\n",
              "      <td>NaN</td>\n",
              "      <td>NaN</td>\n",
              "      <td>NaN</td>\n",
              "      <td>NaN</td>\n",
              "      <td>0.0</td>\n",
              "      <td>NaN</td>\n",
              "      <td>NaN</td>\n",
              "      <td>NaN</td>\n",
              "      <td>NaN</td>\n",
              "      <td>NaN</td>\n",
              "      <td>NaN</td>\n",
              "      <td>0.0</td>\n",
              "      <td>NaN</td>\n",
              "      <td>NaN</td>\n",
              "      <td>NaN</td>\n",
              "      <td>NaN</td>\n",
              "      <td>NaN</td>\n",
              "      <td>NaN</td>\n",
              "      <td>NaN</td>\n",
              "      <td>NaN</td>\n",
              "      <td>NaN</td>\n",
              "      <td>NaN</td>\n",
              "      <td>NaN</td>\n",
              "      <td>NaN</td>\n",
              "      <td>PGIS</td>\n",
              "      <td>-9</td>\n",
              "      <td>-9</td>\n",
              "      <td>1</td>\n",
              "      <td>1</td>\n",
              "      <td>NaN</td>\n",
              "    </tr>\n",
              "    <tr>\n",
              "      <th>3</th>\n",
              "      <td>197001000002</td>\n",
              "      <td>1970</td>\n",
              "      <td>1</td>\n",
              "      <td>0</td>\n",
              "      <td>NaN</td>\n",
              "      <td>0</td>\n",
              "      <td>NaN</td>\n",
              "      <td>78</td>\n",
              "      <td>Greece</td>\n",
              "      <td>8</td>\n",
              "      <td>Western Europe</td>\n",
              "      <td>Attica</td>\n",
              "      <td>Athens</td>\n",
              "      <td>37.997490</td>\n",
              "      <td>23.762728</td>\n",
              "      <td>1.0</td>\n",
              "      <td>0</td>\n",
              "      <td>NaN</td>\n",
              "      <td>NaN</td>\n",
              "      <td>1</td>\n",
              "      <td>1</td>\n",
              "      <td>1</td>\n",
              "      <td>0.0</td>\n",
              "      <td>NaN</td>\n",
              "      <td>NaN</td>\n",
              "      <td>0.0</td>\n",
              "      <td>1</td>\n",
              "      <td>0</td>\n",
              "      <td>3</td>\n",
              "      <td>Bombing/Explosion</td>\n",
              "      <td>NaN</td>\n",
              "      <td>NaN</td>\n",
              "      <td>NaN</td>\n",
              "      <td>NaN</td>\n",
              "      <td>7</td>\n",
              "      <td>Government (Diplomatic)</td>\n",
              "      <td>46.0</td>\n",
              "      <td>Embassy/Consulate</td>\n",
              "      <td>NaN</td>\n",
              "      <td>U.S. Embassy</td>\n",
              "      <td>...</td>\n",
              "      <td>NaN</td>\n",
              "      <td>NaN</td>\n",
              "      <td>Explosive</td>\n",
              "      <td>NaN</td>\n",
              "      <td>NaN</td>\n",
              "      <td>NaN</td>\n",
              "      <td>NaN</td>\n",
              "      <td>NaN</td>\n",
              "      <td>NaN</td>\n",
              "      <td>1</td>\n",
              "      <td>NaN</td>\n",
              "      <td>NaN</td>\n",
              "      <td>NaN</td>\n",
              "      <td>NaN</td>\n",
              "      <td>0.0</td>\n",
              "      <td>NaN</td>\n",
              "      <td>NaN</td>\n",
              "      <td>NaN</td>\n",
              "      <td>NaN</td>\n",
              "      <td>NaN</td>\n",
              "      <td>NaN</td>\n",
              "      <td>0.0</td>\n",
              "      <td>NaN</td>\n",
              "      <td>NaN</td>\n",
              "      <td>NaN</td>\n",
              "      <td>NaN</td>\n",
              "      <td>NaN</td>\n",
              "      <td>NaN</td>\n",
              "      <td>NaN</td>\n",
              "      <td>NaN</td>\n",
              "      <td>NaN</td>\n",
              "      <td>NaN</td>\n",
              "      <td>NaN</td>\n",
              "      <td>NaN</td>\n",
              "      <td>PGIS</td>\n",
              "      <td>-9</td>\n",
              "      <td>-9</td>\n",
              "      <td>1</td>\n",
              "      <td>1</td>\n",
              "      <td>NaN</td>\n",
              "    </tr>\n",
              "    <tr>\n",
              "      <th>4</th>\n",
              "      <td>197001000003</td>\n",
              "      <td>1970</td>\n",
              "      <td>1</td>\n",
              "      <td>0</td>\n",
              "      <td>NaN</td>\n",
              "      <td>0</td>\n",
              "      <td>NaN</td>\n",
              "      <td>101</td>\n",
              "      <td>Japan</td>\n",
              "      <td>4</td>\n",
              "      <td>East Asia</td>\n",
              "      <td>Fukouka</td>\n",
              "      <td>Fukouka</td>\n",
              "      <td>33.580412</td>\n",
              "      <td>130.396361</td>\n",
              "      <td>1.0</td>\n",
              "      <td>0</td>\n",
              "      <td>NaN</td>\n",
              "      <td>NaN</td>\n",
              "      <td>1</td>\n",
              "      <td>1</td>\n",
              "      <td>1</td>\n",
              "      <td>-9.0</td>\n",
              "      <td>NaN</td>\n",
              "      <td>NaN</td>\n",
              "      <td>0.0</td>\n",
              "      <td>1</td>\n",
              "      <td>0</td>\n",
              "      <td>7</td>\n",
              "      <td>Facility/Infrastructure Attack</td>\n",
              "      <td>NaN</td>\n",
              "      <td>NaN</td>\n",
              "      <td>NaN</td>\n",
              "      <td>NaN</td>\n",
              "      <td>7</td>\n",
              "      <td>Government (Diplomatic)</td>\n",
              "      <td>46.0</td>\n",
              "      <td>Embassy/Consulate</td>\n",
              "      <td>NaN</td>\n",
              "      <td>U.S. Consulate</td>\n",
              "      <td>...</td>\n",
              "      <td>NaN</td>\n",
              "      <td>NaN</td>\n",
              "      <td>Incendiary</td>\n",
              "      <td>NaN</td>\n",
              "      <td>NaN</td>\n",
              "      <td>NaN</td>\n",
              "      <td>NaN</td>\n",
              "      <td>NaN</td>\n",
              "      <td>NaN</td>\n",
              "      <td>1</td>\n",
              "      <td>NaN</td>\n",
              "      <td>NaN</td>\n",
              "      <td>NaN</td>\n",
              "      <td>NaN</td>\n",
              "      <td>0.0</td>\n",
              "      <td>NaN</td>\n",
              "      <td>NaN</td>\n",
              "      <td>NaN</td>\n",
              "      <td>NaN</td>\n",
              "      <td>NaN</td>\n",
              "      <td>NaN</td>\n",
              "      <td>0.0</td>\n",
              "      <td>NaN</td>\n",
              "      <td>NaN</td>\n",
              "      <td>NaN</td>\n",
              "      <td>NaN</td>\n",
              "      <td>NaN</td>\n",
              "      <td>NaN</td>\n",
              "      <td>NaN</td>\n",
              "      <td>NaN</td>\n",
              "      <td>NaN</td>\n",
              "      <td>NaN</td>\n",
              "      <td>NaN</td>\n",
              "      <td>NaN</td>\n",
              "      <td>PGIS</td>\n",
              "      <td>-9</td>\n",
              "      <td>-9</td>\n",
              "      <td>1</td>\n",
              "      <td>1</td>\n",
              "      <td>NaN</td>\n",
              "    </tr>\n",
              "    <tr>\n",
              "      <th>...</th>\n",
              "      <td>...</td>\n",
              "      <td>...</td>\n",
              "      <td>...</td>\n",
              "      <td>...</td>\n",
              "      <td>...</td>\n",
              "      <td>...</td>\n",
              "      <td>...</td>\n",
              "      <td>...</td>\n",
              "      <td>...</td>\n",
              "      <td>...</td>\n",
              "      <td>...</td>\n",
              "      <td>...</td>\n",
              "      <td>...</td>\n",
              "      <td>...</td>\n",
              "      <td>...</td>\n",
              "      <td>...</td>\n",
              "      <td>...</td>\n",
              "      <td>...</td>\n",
              "      <td>...</td>\n",
              "      <td>...</td>\n",
              "      <td>...</td>\n",
              "      <td>...</td>\n",
              "      <td>...</td>\n",
              "      <td>...</td>\n",
              "      <td>...</td>\n",
              "      <td>...</td>\n",
              "      <td>...</td>\n",
              "      <td>...</td>\n",
              "      <td>...</td>\n",
              "      <td>...</td>\n",
              "      <td>...</td>\n",
              "      <td>...</td>\n",
              "      <td>...</td>\n",
              "      <td>...</td>\n",
              "      <td>...</td>\n",
              "      <td>...</td>\n",
              "      <td>...</td>\n",
              "      <td>...</td>\n",
              "      <td>...</td>\n",
              "      <td>...</td>\n",
              "      <td>...</td>\n",
              "      <td>...</td>\n",
              "      <td>...</td>\n",
              "      <td>...</td>\n",
              "      <td>...</td>\n",
              "      <td>...</td>\n",
              "      <td>...</td>\n",
              "      <td>...</td>\n",
              "      <td>...</td>\n",
              "      <td>...</td>\n",
              "      <td>...</td>\n",
              "      <td>...</td>\n",
              "      <td>...</td>\n",
              "      <td>...</td>\n",
              "      <td>...</td>\n",
              "      <td>...</td>\n",
              "      <td>...</td>\n",
              "      <td>...</td>\n",
              "      <td>...</td>\n",
              "      <td>...</td>\n",
              "      <td>...</td>\n",
              "      <td>...</td>\n",
              "      <td>...</td>\n",
              "      <td>...</td>\n",
              "      <td>...</td>\n",
              "      <td>...</td>\n",
              "      <td>...</td>\n",
              "      <td>...</td>\n",
              "      <td>...</td>\n",
              "      <td>...</td>\n",
              "      <td>...</td>\n",
              "      <td>...</td>\n",
              "      <td>...</td>\n",
              "      <td>...</td>\n",
              "      <td>...</td>\n",
              "      <td>...</td>\n",
              "      <td>...</td>\n",
              "      <td>...</td>\n",
              "      <td>...</td>\n",
              "      <td>...</td>\n",
              "      <td>...</td>\n",
              "    </tr>\n",
              "    <tr>\n",
              "      <th>181686</th>\n",
              "      <td>201712310022</td>\n",
              "      <td>2017</td>\n",
              "      <td>12</td>\n",
              "      <td>31</td>\n",
              "      <td>NaN</td>\n",
              "      <td>0</td>\n",
              "      <td>NaN</td>\n",
              "      <td>182</td>\n",
              "      <td>Somalia</td>\n",
              "      <td>11</td>\n",
              "      <td>Sub-Saharan Africa</td>\n",
              "      <td>Middle Shebelle</td>\n",
              "      <td>Ceelka Geelow</td>\n",
              "      <td>2.359673</td>\n",
              "      <td>45.385034</td>\n",
              "      <td>2.0</td>\n",
              "      <td>0</td>\n",
              "      <td>The incident occurred near the town of Balcad.</td>\n",
              "      <td>12/31/2017: Assailants opened fire on a Somali...</td>\n",
              "      <td>1</td>\n",
              "      <td>1</td>\n",
              "      <td>0</td>\n",
              "      <td>1.0</td>\n",
              "      <td>1.0</td>\n",
              "      <td>Insurgency/Guerilla Action</td>\n",
              "      <td>0.0</td>\n",
              "      <td>1</td>\n",
              "      <td>0</td>\n",
              "      <td>2</td>\n",
              "      <td>Armed Assault</td>\n",
              "      <td>NaN</td>\n",
              "      <td>NaN</td>\n",
              "      <td>NaN</td>\n",
              "      <td>NaN</td>\n",
              "      <td>4</td>\n",
              "      <td>Military</td>\n",
              "      <td>36.0</td>\n",
              "      <td>Military Checkpoint</td>\n",
              "      <td>Somali National Army (SNA)</td>\n",
              "      <td>Checkpoint</td>\n",
              "      <td>...</td>\n",
              "      <td>NaN</td>\n",
              "      <td>NaN</td>\n",
              "      <td>NaN</td>\n",
              "      <td>1.0</td>\n",
              "      <td>0.0</td>\n",
              "      <td>0.0</td>\n",
              "      <td>2.0</td>\n",
              "      <td>0.0</td>\n",
              "      <td>0.0</td>\n",
              "      <td>-9</td>\n",
              "      <td>NaN</td>\n",
              "      <td>NaN</td>\n",
              "      <td>NaN</td>\n",
              "      <td>NaN</td>\n",
              "      <td>0.0</td>\n",
              "      <td>NaN</td>\n",
              "      <td>NaN</td>\n",
              "      <td>NaN</td>\n",
              "      <td>NaN</td>\n",
              "      <td>NaN</td>\n",
              "      <td>NaN</td>\n",
              "      <td>NaN</td>\n",
              "      <td>NaN</td>\n",
              "      <td>NaN</td>\n",
              "      <td>NaN</td>\n",
              "      <td>NaN</td>\n",
              "      <td>NaN</td>\n",
              "      <td>NaN</td>\n",
              "      <td>NaN</td>\n",
              "      <td>NaN</td>\n",
              "      <td>NaN</td>\n",
              "      <td>\"Somalia: Al-Shabaab Militants Attack Army Che...</td>\n",
              "      <td>\"Highlights: Somalia Daily Media Highlights 2 ...</td>\n",
              "      <td>\"Highlights: Somalia Daily Media Highlights 1 ...</td>\n",
              "      <td>START Primary Collection</td>\n",
              "      <td>0</td>\n",
              "      <td>0</td>\n",
              "      <td>0</td>\n",
              "      <td>0</td>\n",
              "      <td>NaN</td>\n",
              "    </tr>\n",
              "    <tr>\n",
              "      <th>181687</th>\n",
              "      <td>201712310029</td>\n",
              "      <td>2017</td>\n",
              "      <td>12</td>\n",
              "      <td>31</td>\n",
              "      <td>NaN</td>\n",
              "      <td>0</td>\n",
              "      <td>NaN</td>\n",
              "      <td>200</td>\n",
              "      <td>Syria</td>\n",
              "      <td>10</td>\n",
              "      <td>Middle East &amp; North Africa</td>\n",
              "      <td>Lattakia</td>\n",
              "      <td>Jableh</td>\n",
              "      <td>35.407278</td>\n",
              "      <td>35.942679</td>\n",
              "      <td>1.0</td>\n",
              "      <td>1</td>\n",
              "      <td>The incident occurred at the Humaymim Airport.</td>\n",
              "      <td>12/31/2017: Assailants launched mortars at the...</td>\n",
              "      <td>1</td>\n",
              "      <td>1</td>\n",
              "      <td>0</td>\n",
              "      <td>1.0</td>\n",
              "      <td>1.0</td>\n",
              "      <td>Insurgency/Guerilla Action</td>\n",
              "      <td>0.0</td>\n",
              "      <td>1</td>\n",
              "      <td>0</td>\n",
              "      <td>3</td>\n",
              "      <td>Bombing/Explosion</td>\n",
              "      <td>NaN</td>\n",
              "      <td>NaN</td>\n",
              "      <td>NaN</td>\n",
              "      <td>NaN</td>\n",
              "      <td>4</td>\n",
              "      <td>Military</td>\n",
              "      <td>27.0</td>\n",
              "      <td>Military Barracks/Base/Headquarters/Checkpost</td>\n",
              "      <td>Russian Air Force</td>\n",
              "      <td>Hmeymim Air Base</td>\n",
              "      <td>...</td>\n",
              "      <td>NaN</td>\n",
              "      <td>NaN</td>\n",
              "      <td>Mortars were used in the attack.</td>\n",
              "      <td>2.0</td>\n",
              "      <td>0.0</td>\n",
              "      <td>0.0</td>\n",
              "      <td>7.0</td>\n",
              "      <td>0.0</td>\n",
              "      <td>0.0</td>\n",
              "      <td>1</td>\n",
              "      <td>4.0</td>\n",
              "      <td>Unknown</td>\n",
              "      <td>-99.0</td>\n",
              "      <td>Seven military planes were damaged in this att...</td>\n",
              "      <td>0.0</td>\n",
              "      <td>NaN</td>\n",
              "      <td>NaN</td>\n",
              "      <td>NaN</td>\n",
              "      <td>NaN</td>\n",
              "      <td>NaN</td>\n",
              "      <td>NaN</td>\n",
              "      <td>NaN</td>\n",
              "      <td>NaN</td>\n",
              "      <td>NaN</td>\n",
              "      <td>NaN</td>\n",
              "      <td>NaN</td>\n",
              "      <td>NaN</td>\n",
              "      <td>NaN</td>\n",
              "      <td>NaN</td>\n",
              "      <td>NaN</td>\n",
              "      <td>NaN</td>\n",
              "      <td>\"Putin's 'victory' in Syria has turned into a ...</td>\n",
              "      <td>\"Two Russian soldiers killed at Hmeymim base i...</td>\n",
              "      <td>\"Two Russian servicemen killed in Syria mortar...</td>\n",
              "      <td>START Primary Collection</td>\n",
              "      <td>-9</td>\n",
              "      <td>-9</td>\n",
              "      <td>1</td>\n",
              "      <td>1</td>\n",
              "      <td>NaN</td>\n",
              "    </tr>\n",
              "    <tr>\n",
              "      <th>181688</th>\n",
              "      <td>201712310030</td>\n",
              "      <td>2017</td>\n",
              "      <td>12</td>\n",
              "      <td>31</td>\n",
              "      <td>NaN</td>\n",
              "      <td>0</td>\n",
              "      <td>NaN</td>\n",
              "      <td>160</td>\n",
              "      <td>Philippines</td>\n",
              "      <td>5</td>\n",
              "      <td>Southeast Asia</td>\n",
              "      <td>Maguindanao</td>\n",
              "      <td>Kubentog</td>\n",
              "      <td>6.900742</td>\n",
              "      <td>124.437908</td>\n",
              "      <td>2.0</td>\n",
              "      <td>0</td>\n",
              "      <td>The incident occurred in the Datu Hoffer distr...</td>\n",
              "      <td>12/31/2017: Assailants set fire to houses in K...</td>\n",
              "      <td>1</td>\n",
              "      <td>1</td>\n",
              "      <td>1</td>\n",
              "      <td>0.0</td>\n",
              "      <td>NaN</td>\n",
              "      <td>NaN</td>\n",
              "      <td>0.0</td>\n",
              "      <td>1</td>\n",
              "      <td>0</td>\n",
              "      <td>7</td>\n",
              "      <td>Facility/Infrastructure Attack</td>\n",
              "      <td>NaN</td>\n",
              "      <td>NaN</td>\n",
              "      <td>NaN</td>\n",
              "      <td>NaN</td>\n",
              "      <td>14</td>\n",
              "      <td>Private Citizens &amp; Property</td>\n",
              "      <td>76.0</td>\n",
              "      <td>House/Apartment/Residence</td>\n",
              "      <td>Not Applicable</td>\n",
              "      <td>Houses</td>\n",
              "      <td>...</td>\n",
              "      <td>NaN</td>\n",
              "      <td>NaN</td>\n",
              "      <td>NaN</td>\n",
              "      <td>0.0</td>\n",
              "      <td>0.0</td>\n",
              "      <td>0.0</td>\n",
              "      <td>0.0</td>\n",
              "      <td>0.0</td>\n",
              "      <td>0.0</td>\n",
              "      <td>1</td>\n",
              "      <td>4.0</td>\n",
              "      <td>Unknown</td>\n",
              "      <td>-99.0</td>\n",
              "      <td>Houses were damaged in this attack.</td>\n",
              "      <td>0.0</td>\n",
              "      <td>NaN</td>\n",
              "      <td>NaN</td>\n",
              "      <td>NaN</td>\n",
              "      <td>NaN</td>\n",
              "      <td>NaN</td>\n",
              "      <td>NaN</td>\n",
              "      <td>NaN</td>\n",
              "      <td>NaN</td>\n",
              "      <td>NaN</td>\n",
              "      <td>NaN</td>\n",
              "      <td>NaN</td>\n",
              "      <td>NaN</td>\n",
              "      <td>NaN</td>\n",
              "      <td>NaN</td>\n",
              "      <td>NaN</td>\n",
              "      <td>NaN</td>\n",
              "      <td>\"Maguindanao clashes trap tribe members,\" Phil...</td>\n",
              "      <td>NaN</td>\n",
              "      <td>NaN</td>\n",
              "      <td>START Primary Collection</td>\n",
              "      <td>0</td>\n",
              "      <td>0</td>\n",
              "      <td>0</td>\n",
              "      <td>0</td>\n",
              "      <td>NaN</td>\n",
              "    </tr>\n",
              "    <tr>\n",
              "      <th>181689</th>\n",
              "      <td>201712310031</td>\n",
              "      <td>2017</td>\n",
              "      <td>12</td>\n",
              "      <td>31</td>\n",
              "      <td>NaN</td>\n",
              "      <td>0</td>\n",
              "      <td>NaN</td>\n",
              "      <td>92</td>\n",
              "      <td>India</td>\n",
              "      <td>6</td>\n",
              "      <td>South Asia</td>\n",
              "      <td>Manipur</td>\n",
              "      <td>Imphal</td>\n",
              "      <td>24.798346</td>\n",
              "      <td>93.940430</td>\n",
              "      <td>1.0</td>\n",
              "      <td>0</td>\n",
              "      <td>The incident occurred in the Mantripukhri neig...</td>\n",
              "      <td>12/31/2017: Assailants threw a grenade at a Fo...</td>\n",
              "      <td>1</td>\n",
              "      <td>1</td>\n",
              "      <td>1</td>\n",
              "      <td>0.0</td>\n",
              "      <td>NaN</td>\n",
              "      <td>NaN</td>\n",
              "      <td>0.0</td>\n",
              "      <td>0</td>\n",
              "      <td>0</td>\n",
              "      <td>3</td>\n",
              "      <td>Bombing/Explosion</td>\n",
              "      <td>NaN</td>\n",
              "      <td>NaN</td>\n",
              "      <td>NaN</td>\n",
              "      <td>NaN</td>\n",
              "      <td>2</td>\n",
              "      <td>Government (General)</td>\n",
              "      <td>21.0</td>\n",
              "      <td>Government Building/Facility/Office</td>\n",
              "      <td>Forest Department Manipur</td>\n",
              "      <td>Office</td>\n",
              "      <td>...</td>\n",
              "      <td>NaN</td>\n",
              "      <td>NaN</td>\n",
              "      <td>A thrown grenade was used in the attack.</td>\n",
              "      <td>0.0</td>\n",
              "      <td>0.0</td>\n",
              "      <td>0.0</td>\n",
              "      <td>0.0</td>\n",
              "      <td>0.0</td>\n",
              "      <td>0.0</td>\n",
              "      <td>-9</td>\n",
              "      <td>NaN</td>\n",
              "      <td>NaN</td>\n",
              "      <td>NaN</td>\n",
              "      <td>NaN</td>\n",
              "      <td>0.0</td>\n",
              "      <td>NaN</td>\n",
              "      <td>NaN</td>\n",
              "      <td>NaN</td>\n",
              "      <td>NaN</td>\n",
              "      <td>NaN</td>\n",
              "      <td>NaN</td>\n",
              "      <td>NaN</td>\n",
              "      <td>NaN</td>\n",
              "      <td>NaN</td>\n",
              "      <td>NaN</td>\n",
              "      <td>NaN</td>\n",
              "      <td>NaN</td>\n",
              "      <td>NaN</td>\n",
              "      <td>NaN</td>\n",
              "      <td>NaN</td>\n",
              "      <td>NaN</td>\n",
              "      <td>\"Trader escapes grenade attack in Imphal,\" Bus...</td>\n",
              "      <td>NaN</td>\n",
              "      <td>NaN</td>\n",
              "      <td>START Primary Collection</td>\n",
              "      <td>-9</td>\n",
              "      <td>-9</td>\n",
              "      <td>0</td>\n",
              "      <td>-9</td>\n",
              "      <td>NaN</td>\n",
              "    </tr>\n",
              "    <tr>\n",
              "      <th>181690</th>\n",
              "      <td>201712310032</td>\n",
              "      <td>2017</td>\n",
              "      <td>12</td>\n",
              "      <td>31</td>\n",
              "      <td>NaN</td>\n",
              "      <td>0</td>\n",
              "      <td>NaN</td>\n",
              "      <td>160</td>\n",
              "      <td>Philippines</td>\n",
              "      <td>5</td>\n",
              "      <td>Southeast Asia</td>\n",
              "      <td>Maguindanao</td>\n",
              "      <td>Cotabato City</td>\n",
              "      <td>7.209594</td>\n",
              "      <td>124.241966</td>\n",
              "      <td>1.0</td>\n",
              "      <td>0</td>\n",
              "      <td>NaN</td>\n",
              "      <td>12/31/2017: An explosive device was discovered...</td>\n",
              "      <td>1</td>\n",
              "      <td>1</td>\n",
              "      <td>1</td>\n",
              "      <td>0.0</td>\n",
              "      <td>NaN</td>\n",
              "      <td>NaN</td>\n",
              "      <td>0.0</td>\n",
              "      <td>0</td>\n",
              "      <td>0</td>\n",
              "      <td>3</td>\n",
              "      <td>Bombing/Explosion</td>\n",
              "      <td>NaN</td>\n",
              "      <td>NaN</td>\n",
              "      <td>NaN</td>\n",
              "      <td>NaN</td>\n",
              "      <td>20</td>\n",
              "      <td>Unknown</td>\n",
              "      <td>NaN</td>\n",
              "      <td>NaN</td>\n",
              "      <td>Unknown</td>\n",
              "      <td>Unknown</td>\n",
              "      <td>...</td>\n",
              "      <td>NaN</td>\n",
              "      <td>NaN</td>\n",
              "      <td>An explosive device containing a detonating co...</td>\n",
              "      <td>0.0</td>\n",
              "      <td>0.0</td>\n",
              "      <td>0.0</td>\n",
              "      <td>0.0</td>\n",
              "      <td>0.0</td>\n",
              "      <td>0.0</td>\n",
              "      <td>0</td>\n",
              "      <td>NaN</td>\n",
              "      <td>NaN</td>\n",
              "      <td>NaN</td>\n",
              "      <td>NaN</td>\n",
              "      <td>0.0</td>\n",
              "      <td>NaN</td>\n",
              "      <td>NaN</td>\n",
              "      <td>NaN</td>\n",
              "      <td>NaN</td>\n",
              "      <td>NaN</td>\n",
              "      <td>NaN</td>\n",
              "      <td>NaN</td>\n",
              "      <td>NaN</td>\n",
              "      <td>NaN</td>\n",
              "      <td>NaN</td>\n",
              "      <td>NaN</td>\n",
              "      <td>NaN</td>\n",
              "      <td>NaN</td>\n",
              "      <td>NaN</td>\n",
              "      <td>NaN</td>\n",
              "      <td>NaN</td>\n",
              "      <td>\"Security tightened in Cotabato following IED ...</td>\n",
              "      <td>\"Security tightened in Cotabato City,\" Manila ...</td>\n",
              "      <td>NaN</td>\n",
              "      <td>START Primary Collection</td>\n",
              "      <td>-9</td>\n",
              "      <td>-9</td>\n",
              "      <td>0</td>\n",
              "      <td>-9</td>\n",
              "      <td>NaN</td>\n",
              "    </tr>\n",
              "  </tbody>\n",
              "</table>\n",
              "<p>181691 rows × 135 columns</p>\n",
              "</div>"
            ],
            "text/plain": [
              "             eventid  iyear  imonth  iday  ... INT_IDEO  INT_MISC INT_ANY  related\n",
              "0       197000000001   1970       7     2  ...        0         0       0      NaN\n",
              "1       197000000002   1970       0     0  ...        1         1       1      NaN\n",
              "2       197001000001   1970       1     0  ...       -9         1       1      NaN\n",
              "3       197001000002   1970       1     0  ...       -9         1       1      NaN\n",
              "4       197001000003   1970       1     0  ...       -9         1       1      NaN\n",
              "...              ...    ...     ...   ...  ...      ...       ...     ...      ...\n",
              "181686  201712310022   2017      12    31  ...        0         0       0      NaN\n",
              "181687  201712310029   2017      12    31  ...       -9         1       1      NaN\n",
              "181688  201712310030   2017      12    31  ...        0         0       0      NaN\n",
              "181689  201712310031   2017      12    31  ...       -9         0      -9      NaN\n",
              "181690  201712310032   2017      12    31  ...       -9         0      -9      NaN\n",
              "\n",
              "[181691 rows x 135 columns]"
            ]
          },
          "metadata": {},
          "execution_count": 4
        }
      ]
    },
    {
      "cell_type": "code",
      "metadata": {
        "colab": {
          "base_uri": "https://localhost:8080/"
        },
        "id": "dQDHgpLIZ1if",
        "outputId": "f4b2ef63-b434-46e7-fbd2-e81e69cc8b5e"
      },
      "source": [
        "df.info   # used to check the Information about the data and the datatypes of each respective attribute"
      ],
      "execution_count": 5,
      "outputs": [
        {
          "output_type": "execute_result",
          "data": {
            "text/plain": [
              "<bound method DataFrame.info of              eventid  iyear  imonth  iday  ... INT_IDEO  INT_MISC INT_ANY  related\n",
              "0       197000000001   1970       7     2  ...        0         0       0      NaN\n",
              "1       197000000002   1970       0     0  ...        1         1       1      NaN\n",
              "2       197001000001   1970       1     0  ...       -9         1       1      NaN\n",
              "3       197001000002   1970       1     0  ...       -9         1       1      NaN\n",
              "4       197001000003   1970       1     0  ...       -9         1       1      NaN\n",
              "...              ...    ...     ...   ...  ...      ...       ...     ...      ...\n",
              "181686  201712310022   2017      12    31  ...        0         0       0      NaN\n",
              "181687  201712310029   2017      12    31  ...       -9         1       1      NaN\n",
              "181688  201712310030   2017      12    31  ...        0         0       0      NaN\n",
              "181689  201712310031   2017      12    31  ...       -9         0      -9      NaN\n",
              "181690  201712310032   2017      12    31  ...       -9         0      -9      NaN\n",
              "\n",
              "[181691 rows x 135 columns]>"
            ]
          },
          "metadata": {},
          "execution_count": 5
        }
      ]
    },
    {
      "cell_type": "code",
      "metadata": {
        "colab": {
          "base_uri": "https://localhost:8080/"
        },
        "id": "74t4NMOHZ-Gw",
        "outputId": "61256988-1acb-40ff-9af6-e613ad8e4c3e"
      },
      "source": [
        "df.shape   #The shape attribute tells us a number of observations and variables we have in the data set. It is used to check the dimension of data.\n",
        "           # The given data set has 181691 observations and 135 variables in the data set."
      ],
      "execution_count": 6,
      "outputs": [
        {
          "output_type": "execute_result",
          "data": {
            "text/plain": [
              "(181691, 135)"
            ]
          },
          "metadata": {},
          "execution_count": 6
        }
      ]
    },
    {
      "cell_type": "code",
      "metadata": {
        "colab": {
          "base_uri": "https://localhost:8080/",
          "height": 315
        },
        "id": "gz8IBfg7Z2UV",
        "outputId": "36102d95-3ad9-4384-fc03-98345e1c2aeb"
      },
      "source": [
        "#This method gives the overall descriptive summary of the dataframe\n",
        "df.describe() "
      ],
      "execution_count": 7,
      "outputs": [
        {
          "output_type": "execute_result",
          "data": {
            "text/html": [
              "<div>\n",
              "<style scoped>\n",
              "    .dataframe tbody tr th:only-of-type {\n",
              "        vertical-align: middle;\n",
              "    }\n",
              "\n",
              "    .dataframe tbody tr th {\n",
              "        vertical-align: top;\n",
              "    }\n",
              "\n",
              "    .dataframe thead th {\n",
              "        text-align: right;\n",
              "    }\n",
              "</style>\n",
              "<table border=\"1\" class=\"dataframe\">\n",
              "  <thead>\n",
              "    <tr style=\"text-align: right;\">\n",
              "      <th></th>\n",
              "      <th>eventid</th>\n",
              "      <th>iyear</th>\n",
              "      <th>imonth</th>\n",
              "      <th>iday</th>\n",
              "      <th>extended</th>\n",
              "      <th>country</th>\n",
              "      <th>region</th>\n",
              "      <th>latitude</th>\n",
              "      <th>longitude</th>\n",
              "      <th>specificity</th>\n",
              "      <th>vicinity</th>\n",
              "      <th>crit1</th>\n",
              "      <th>crit2</th>\n",
              "      <th>crit3</th>\n",
              "      <th>doubtterr</th>\n",
              "      <th>alternative</th>\n",
              "      <th>multiple</th>\n",
              "      <th>success</th>\n",
              "      <th>suicide</th>\n",
              "      <th>attacktype1</th>\n",
              "      <th>attacktype2</th>\n",
              "      <th>attacktype3</th>\n",
              "      <th>targtype1</th>\n",
              "      <th>targsubtype1</th>\n",
              "      <th>natlty1</th>\n",
              "      <th>targtype2</th>\n",
              "      <th>targsubtype2</th>\n",
              "      <th>natlty2</th>\n",
              "      <th>targtype3</th>\n",
              "      <th>targsubtype3</th>\n",
              "      <th>natlty3</th>\n",
              "      <th>guncertain1</th>\n",
              "      <th>guncertain2</th>\n",
              "      <th>guncertain3</th>\n",
              "      <th>individual</th>\n",
              "      <th>nperps</th>\n",
              "      <th>nperpcap</th>\n",
              "      <th>claimed</th>\n",
              "      <th>claimmode</th>\n",
              "      <th>claim2</th>\n",
              "      <th>claimmode2</th>\n",
              "      <th>claim3</th>\n",
              "      <th>claimmode3</th>\n",
              "      <th>compclaim</th>\n",
              "      <th>weaptype1</th>\n",
              "      <th>weapsubtype1</th>\n",
              "      <th>weaptype2</th>\n",
              "      <th>weapsubtype2</th>\n",
              "      <th>weaptype3</th>\n",
              "      <th>weapsubtype3</th>\n",
              "      <th>weaptype4</th>\n",
              "      <th>weapsubtype4</th>\n",
              "      <th>nkill</th>\n",
              "      <th>nkillus</th>\n",
              "      <th>nkillter</th>\n",
              "      <th>nwound</th>\n",
              "      <th>nwoundus</th>\n",
              "      <th>nwoundte</th>\n",
              "      <th>property</th>\n",
              "      <th>propextent</th>\n",
              "      <th>propvalue</th>\n",
              "      <th>ishostkid</th>\n",
              "      <th>nhostkid</th>\n",
              "      <th>nhostkidus</th>\n",
              "      <th>nhours</th>\n",
              "      <th>ndays</th>\n",
              "      <th>ransom</th>\n",
              "      <th>ransomamt</th>\n",
              "      <th>ransomamtus</th>\n",
              "      <th>ransompaid</th>\n",
              "      <th>ransompaidus</th>\n",
              "      <th>hostkidoutcome</th>\n",
              "      <th>nreleased</th>\n",
              "      <th>INT_LOG</th>\n",
              "      <th>INT_IDEO</th>\n",
              "      <th>INT_MISC</th>\n",
              "      <th>INT_ANY</th>\n",
              "    </tr>\n",
              "  </thead>\n",
              "  <tbody>\n",
              "    <tr>\n",
              "      <th>count</th>\n",
              "      <td>1.816910e+05</td>\n",
              "      <td>181691.000000</td>\n",
              "      <td>181691.000000</td>\n",
              "      <td>181691.000000</td>\n",
              "      <td>181691.000000</td>\n",
              "      <td>181691.000000</td>\n",
              "      <td>181691.000000</td>\n",
              "      <td>177135.000000</td>\n",
              "      <td>1.771340e+05</td>\n",
              "      <td>181685.000000</td>\n",
              "      <td>181691.000000</td>\n",
              "      <td>181691.000000</td>\n",
              "      <td>181691.000000</td>\n",
              "      <td>181691.000000</td>\n",
              "      <td>181690.000000</td>\n",
              "      <td>29011.000000</td>\n",
              "      <td>181690.000000</td>\n",
              "      <td>181691.000000</td>\n",
              "      <td>181691.000000</td>\n",
              "      <td>181691.000000</td>\n",
              "      <td>6314.000000</td>\n",
              "      <td>428.000000</td>\n",
              "      <td>181691.000000</td>\n",
              "      <td>171318.000000</td>\n",
              "      <td>180132.000000</td>\n",
              "      <td>11144.000000</td>\n",
              "      <td>10685.000000</td>\n",
              "      <td>10828.000000</td>\n",
              "      <td>1176.000000</td>\n",
              "      <td>1097.000000</td>\n",
              "      <td>1147.000000</td>\n",
              "      <td>181311.000000</td>\n",
              "      <td>1955.000000</td>\n",
              "      <td>320.000000</td>\n",
              "      <td>181691.000000</td>\n",
              "      <td>110576.000000</td>\n",
              "      <td>112202.000000</td>\n",
              "      <td>115571.000000</td>\n",
              "      <td>19083.000000</td>\n",
              "      <td>1890.000000</td>\n",
              "      <td>616.000000</td>\n",
              "      <td>318.000000</td>\n",
              "      <td>133.000000</td>\n",
              "      <td>4839.000000</td>\n",
              "      <td>181691.000000</td>\n",
              "      <td>160923.000000</td>\n",
              "      <td>13127.000000</td>\n",
              "      <td>11542.000000</td>\n",
              "      <td>1863.000000</td>\n",
              "      <td>1693.000000</td>\n",
              "      <td>73.000000</td>\n",
              "      <td>70.000000</td>\n",
              "      <td>171378.000000</td>\n",
              "      <td>117245.000000</td>\n",
              "      <td>114733.000000</td>\n",
              "      <td>165380.000000</td>\n",
              "      <td>116989.000000</td>\n",
              "      <td>112548.000000</td>\n",
              "      <td>181691.000000</td>\n",
              "      <td>64065.000000</td>\n",
              "      <td>3.898900e+04</td>\n",
              "      <td>181513.000000</td>\n",
              "      <td>13572.000000</td>\n",
              "      <td>13517.000000</td>\n",
              "      <td>4063.000000</td>\n",
              "      <td>8124.000000</td>\n",
              "      <td>77381.000000</td>\n",
              "      <td>1.350000e+03</td>\n",
              "      <td>5.630000e+02</td>\n",
              "      <td>7.740000e+02</td>\n",
              "      <td>552.000000</td>\n",
              "      <td>10991.000000</td>\n",
              "      <td>10400.000000</td>\n",
              "      <td>181691.000000</td>\n",
              "      <td>181691.000000</td>\n",
              "      <td>181691.000000</td>\n",
              "      <td>181691.000000</td>\n",
              "    </tr>\n",
              "    <tr>\n",
              "      <th>mean</th>\n",
              "      <td>2.002705e+11</td>\n",
              "      <td>2002.638997</td>\n",
              "      <td>6.467277</td>\n",
              "      <td>15.505644</td>\n",
              "      <td>0.045346</td>\n",
              "      <td>131.968501</td>\n",
              "      <td>7.160938</td>\n",
              "      <td>23.498343</td>\n",
              "      <td>-4.586957e+02</td>\n",
              "      <td>1.451452</td>\n",
              "      <td>0.068297</td>\n",
              "      <td>0.988530</td>\n",
              "      <td>0.993093</td>\n",
              "      <td>0.875668</td>\n",
              "      <td>-0.523171</td>\n",
              "      <td>1.292923</td>\n",
              "      <td>0.137773</td>\n",
              "      <td>0.889598</td>\n",
              "      <td>0.036507</td>\n",
              "      <td>3.247547</td>\n",
              "      <td>3.719512</td>\n",
              "      <td>5.245327</td>\n",
              "      <td>8.439719</td>\n",
              "      <td>46.971474</td>\n",
              "      <td>127.686441</td>\n",
              "      <td>10.247218</td>\n",
              "      <td>55.311652</td>\n",
              "      <td>131.179442</td>\n",
              "      <td>10.021259</td>\n",
              "      <td>55.548769</td>\n",
              "      <td>144.564952</td>\n",
              "      <td>0.081440</td>\n",
              "      <td>0.265473</td>\n",
              "      <td>0.193750</td>\n",
              "      <td>0.002950</td>\n",
              "      <td>-65.361154</td>\n",
              "      <td>-1.517727</td>\n",
              "      <td>0.049666</td>\n",
              "      <td>7.022848</td>\n",
              "      <td>0.247619</td>\n",
              "      <td>7.176948</td>\n",
              "      <td>0.411950</td>\n",
              "      <td>6.729323</td>\n",
              "      <td>-6.296342</td>\n",
              "      <td>6.447325</td>\n",
              "      <td>11.117162</td>\n",
              "      <td>6.812524</td>\n",
              "      <td>10.754029</td>\n",
              "      <td>6.911433</td>\n",
              "      <td>11.643237</td>\n",
              "      <td>6.246575</td>\n",
              "      <td>10.842857</td>\n",
              "      <td>2.403272</td>\n",
              "      <td>0.045981</td>\n",
              "      <td>0.508058</td>\n",
              "      <td>3.167668</td>\n",
              "      <td>0.038944</td>\n",
              "      <td>0.107163</td>\n",
              "      <td>-0.544556</td>\n",
              "      <td>3.295403</td>\n",
              "      <td>2.088119e+05</td>\n",
              "      <td>0.059054</td>\n",
              "      <td>4.533230</td>\n",
              "      <td>-0.353999</td>\n",
              "      <td>-46.793933</td>\n",
              "      <td>-32.516371</td>\n",
              "      <td>-0.145811</td>\n",
              "      <td>3.172530e+06</td>\n",
              "      <td>5.784865e+05</td>\n",
              "      <td>7.179437e+05</td>\n",
              "      <td>240.378623</td>\n",
              "      <td>4.629242</td>\n",
              "      <td>-29.018269</td>\n",
              "      <td>-4.543731</td>\n",
              "      <td>-4.464398</td>\n",
              "      <td>0.090010</td>\n",
              "      <td>-3.945952</td>\n",
              "    </tr>\n",
              "    <tr>\n",
              "      <th>std</th>\n",
              "      <td>1.325957e+09</td>\n",
              "      <td>13.259430</td>\n",
              "      <td>3.388303</td>\n",
              "      <td>8.814045</td>\n",
              "      <td>0.208063</td>\n",
              "      <td>112.414535</td>\n",
              "      <td>2.933408</td>\n",
              "      <td>18.569242</td>\n",
              "      <td>2.047790e+05</td>\n",
              "      <td>0.995430</td>\n",
              "      <td>0.284553</td>\n",
              "      <td>0.106483</td>\n",
              "      <td>0.082823</td>\n",
              "      <td>0.329961</td>\n",
              "      <td>2.455819</td>\n",
              "      <td>0.703729</td>\n",
              "      <td>0.344663</td>\n",
              "      <td>0.313391</td>\n",
              "      <td>0.187549</td>\n",
              "      <td>1.915772</td>\n",
              "      <td>2.272023</td>\n",
              "      <td>2.246642</td>\n",
              "      <td>6.653838</td>\n",
              "      <td>30.953357</td>\n",
              "      <td>89.299120</td>\n",
              "      <td>5.709076</td>\n",
              "      <td>25.640310</td>\n",
              "      <td>125.951485</td>\n",
              "      <td>5.723447</td>\n",
              "      <td>26.288955</td>\n",
              "      <td>163.299295</td>\n",
              "      <td>0.273511</td>\n",
              "      <td>0.441698</td>\n",
              "      <td>0.395854</td>\n",
              "      <td>0.054234</td>\n",
              "      <td>216.536633</td>\n",
              "      <td>12.830346</td>\n",
              "      <td>1.093195</td>\n",
              "      <td>2.476851</td>\n",
              "      <td>0.974018</td>\n",
              "      <td>2.783725</td>\n",
              "      <td>0.492962</td>\n",
              "      <td>2.908003</td>\n",
              "      <td>4.234620</td>\n",
              "      <td>2.173435</td>\n",
              "      <td>6.495612</td>\n",
              "      <td>2.277081</td>\n",
              "      <td>7.594574</td>\n",
              "      <td>2.177956</td>\n",
              "      <td>8.493166</td>\n",
              "      <td>1.507212</td>\n",
              "      <td>8.192672</td>\n",
              "      <td>11.545741</td>\n",
              "      <td>5.681854</td>\n",
              "      <td>4.199937</td>\n",
              "      <td>35.949392</td>\n",
              "      <td>3.057361</td>\n",
              "      <td>1.488881</td>\n",
              "      <td>3.122889</td>\n",
              "      <td>0.486912</td>\n",
              "      <td>1.552463e+07</td>\n",
              "      <td>0.461244</td>\n",
              "      <td>202.316386</td>\n",
              "      <td>6.835645</td>\n",
              "      <td>82.800405</td>\n",
              "      <td>121.209205</td>\n",
              "      <td>1.207861</td>\n",
              "      <td>3.021157e+07</td>\n",
              "      <td>7.077924e+06</td>\n",
              "      <td>1.014392e+07</td>\n",
              "      <td>2940.967293</td>\n",
              "      <td>2.035360</td>\n",
              "      <td>65.720119</td>\n",
              "      <td>4.543547</td>\n",
              "      <td>4.637152</td>\n",
              "      <td>0.568457</td>\n",
              "      <td>4.691325</td>\n",
              "    </tr>\n",
              "    <tr>\n",
              "      <th>min</th>\n",
              "      <td>1.970000e+11</td>\n",
              "      <td>1970.000000</td>\n",
              "      <td>0.000000</td>\n",
              "      <td>0.000000</td>\n",
              "      <td>0.000000</td>\n",
              "      <td>4.000000</td>\n",
              "      <td>1.000000</td>\n",
              "      <td>-53.154613</td>\n",
              "      <td>-8.618590e+07</td>\n",
              "      <td>1.000000</td>\n",
              "      <td>-9.000000</td>\n",
              "      <td>0.000000</td>\n",
              "      <td>0.000000</td>\n",
              "      <td>0.000000</td>\n",
              "      <td>-9.000000</td>\n",
              "      <td>1.000000</td>\n",
              "      <td>0.000000</td>\n",
              "      <td>0.000000</td>\n",
              "      <td>0.000000</td>\n",
              "      <td>1.000000</td>\n",
              "      <td>1.000000</td>\n",
              "      <td>1.000000</td>\n",
              "      <td>1.000000</td>\n",
              "      <td>1.000000</td>\n",
              "      <td>4.000000</td>\n",
              "      <td>1.000000</td>\n",
              "      <td>1.000000</td>\n",
              "      <td>4.000000</td>\n",
              "      <td>1.000000</td>\n",
              "      <td>1.000000</td>\n",
              "      <td>4.000000</td>\n",
              "      <td>0.000000</td>\n",
              "      <td>0.000000</td>\n",
              "      <td>0.000000</td>\n",
              "      <td>0.000000</td>\n",
              "      <td>-99.000000</td>\n",
              "      <td>-99.000000</td>\n",
              "      <td>-9.000000</td>\n",
              "      <td>1.000000</td>\n",
              "      <td>-9.000000</td>\n",
              "      <td>1.000000</td>\n",
              "      <td>0.000000</td>\n",
              "      <td>1.000000</td>\n",
              "      <td>-9.000000</td>\n",
              "      <td>1.000000</td>\n",
              "      <td>1.000000</td>\n",
              "      <td>1.000000</td>\n",
              "      <td>1.000000</td>\n",
              "      <td>2.000000</td>\n",
              "      <td>1.000000</td>\n",
              "      <td>5.000000</td>\n",
              "      <td>2.000000</td>\n",
              "      <td>0.000000</td>\n",
              "      <td>0.000000</td>\n",
              "      <td>0.000000</td>\n",
              "      <td>0.000000</td>\n",
              "      <td>0.000000</td>\n",
              "      <td>0.000000</td>\n",
              "      <td>-9.000000</td>\n",
              "      <td>1.000000</td>\n",
              "      <td>-9.900000e+01</td>\n",
              "      <td>-9.000000</td>\n",
              "      <td>-99.000000</td>\n",
              "      <td>-99.000000</td>\n",
              "      <td>-99.000000</td>\n",
              "      <td>-99.000000</td>\n",
              "      <td>-9.000000</td>\n",
              "      <td>-9.900000e+01</td>\n",
              "      <td>-9.900000e+01</td>\n",
              "      <td>-9.900000e+01</td>\n",
              "      <td>-99.000000</td>\n",
              "      <td>1.000000</td>\n",
              "      <td>-99.000000</td>\n",
              "      <td>-9.000000</td>\n",
              "      <td>-9.000000</td>\n",
              "      <td>-9.000000</td>\n",
              "      <td>-9.000000</td>\n",
              "    </tr>\n",
              "    <tr>\n",
              "      <th>25%</th>\n",
              "      <td>1.991021e+11</td>\n",
              "      <td>1991.000000</td>\n",
              "      <td>4.000000</td>\n",
              "      <td>8.000000</td>\n",
              "      <td>0.000000</td>\n",
              "      <td>78.000000</td>\n",
              "      <td>5.000000</td>\n",
              "      <td>11.510046</td>\n",
              "      <td>4.545640e+00</td>\n",
              "      <td>1.000000</td>\n",
              "      <td>0.000000</td>\n",
              "      <td>1.000000</td>\n",
              "      <td>1.000000</td>\n",
              "      <td>1.000000</td>\n",
              "      <td>0.000000</td>\n",
              "      <td>1.000000</td>\n",
              "      <td>0.000000</td>\n",
              "      <td>1.000000</td>\n",
              "      <td>0.000000</td>\n",
              "      <td>2.000000</td>\n",
              "      <td>2.000000</td>\n",
              "      <td>2.000000</td>\n",
              "      <td>3.000000</td>\n",
              "      <td>22.000000</td>\n",
              "      <td>83.000000</td>\n",
              "      <td>4.000000</td>\n",
              "      <td>34.000000</td>\n",
              "      <td>92.000000</td>\n",
              "      <td>3.000000</td>\n",
              "      <td>33.000000</td>\n",
              "      <td>75.000000</td>\n",
              "      <td>0.000000</td>\n",
              "      <td>0.000000</td>\n",
              "      <td>0.000000</td>\n",
              "      <td>0.000000</td>\n",
              "      <td>-99.000000</td>\n",
              "      <td>0.000000</td>\n",
              "      <td>0.000000</td>\n",
              "      <td>6.000000</td>\n",
              "      <td>0.000000</td>\n",
              "      <td>6.000000</td>\n",
              "      <td>0.000000</td>\n",
              "      <td>4.000000</td>\n",
              "      <td>-9.000000</td>\n",
              "      <td>5.000000</td>\n",
              "      <td>5.000000</td>\n",
              "      <td>5.000000</td>\n",
              "      <td>5.000000</td>\n",
              "      <td>5.000000</td>\n",
              "      <td>4.000000</td>\n",
              "      <td>5.000000</td>\n",
              "      <td>3.000000</td>\n",
              "      <td>0.000000</td>\n",
              "      <td>0.000000</td>\n",
              "      <td>0.000000</td>\n",
              "      <td>0.000000</td>\n",
              "      <td>0.000000</td>\n",
              "      <td>0.000000</td>\n",
              "      <td>0.000000</td>\n",
              "      <td>3.000000</td>\n",
              "      <td>-9.900000e+01</td>\n",
              "      <td>0.000000</td>\n",
              "      <td>1.000000</td>\n",
              "      <td>0.000000</td>\n",
              "      <td>-99.000000</td>\n",
              "      <td>-99.000000</td>\n",
              "      <td>0.000000</td>\n",
              "      <td>0.000000e+00</td>\n",
              "      <td>0.000000e+00</td>\n",
              "      <td>-9.900000e+01</td>\n",
              "      <td>0.000000</td>\n",
              "      <td>2.000000</td>\n",
              "      <td>-99.000000</td>\n",
              "      <td>-9.000000</td>\n",
              "      <td>-9.000000</td>\n",
              "      <td>0.000000</td>\n",
              "      <td>-9.000000</td>\n",
              "    </tr>\n",
              "    <tr>\n",
              "      <th>50%</th>\n",
              "      <td>2.009022e+11</td>\n",
              "      <td>2009.000000</td>\n",
              "      <td>6.000000</td>\n",
              "      <td>15.000000</td>\n",
              "      <td>0.000000</td>\n",
              "      <td>98.000000</td>\n",
              "      <td>6.000000</td>\n",
              "      <td>31.467463</td>\n",
              "      <td>4.324651e+01</td>\n",
              "      <td>1.000000</td>\n",
              "      <td>0.000000</td>\n",
              "      <td>1.000000</td>\n",
              "      <td>1.000000</td>\n",
              "      <td>1.000000</td>\n",
              "      <td>0.000000</td>\n",
              "      <td>1.000000</td>\n",
              "      <td>0.000000</td>\n",
              "      <td>1.000000</td>\n",
              "      <td>0.000000</td>\n",
              "      <td>3.000000</td>\n",
              "      <td>2.000000</td>\n",
              "      <td>7.000000</td>\n",
              "      <td>4.000000</td>\n",
              "      <td>35.000000</td>\n",
              "      <td>101.000000</td>\n",
              "      <td>14.000000</td>\n",
              "      <td>67.000000</td>\n",
              "      <td>98.000000</td>\n",
              "      <td>14.000000</td>\n",
              "      <td>67.000000</td>\n",
              "      <td>110.000000</td>\n",
              "      <td>0.000000</td>\n",
              "      <td>0.000000</td>\n",
              "      <td>0.000000</td>\n",
              "      <td>0.000000</td>\n",
              "      <td>-99.000000</td>\n",
              "      <td>0.000000</td>\n",
              "      <td>0.000000</td>\n",
              "      <td>8.000000</td>\n",
              "      <td>0.000000</td>\n",
              "      <td>7.000000</td>\n",
              "      <td>0.000000</td>\n",
              "      <td>7.000000</td>\n",
              "      <td>-9.000000</td>\n",
              "      <td>6.000000</td>\n",
              "      <td>12.000000</td>\n",
              "      <td>6.000000</td>\n",
              "      <td>7.000000</td>\n",
              "      <td>6.000000</td>\n",
              "      <td>7.000000</td>\n",
              "      <td>6.000000</td>\n",
              "      <td>9.500000</td>\n",
              "      <td>0.000000</td>\n",
              "      <td>0.000000</td>\n",
              "      <td>0.000000</td>\n",
              "      <td>0.000000</td>\n",
              "      <td>0.000000</td>\n",
              "      <td>0.000000</td>\n",
              "      <td>1.000000</td>\n",
              "      <td>3.000000</td>\n",
              "      <td>-9.900000e+01</td>\n",
              "      <td>0.000000</td>\n",
              "      <td>2.000000</td>\n",
              "      <td>0.000000</td>\n",
              "      <td>-99.000000</td>\n",
              "      <td>-99.000000</td>\n",
              "      <td>0.000000</td>\n",
              "      <td>1.500000e+04</td>\n",
              "      <td>0.000000e+00</td>\n",
              "      <td>0.000000e+00</td>\n",
              "      <td>0.000000</td>\n",
              "      <td>4.000000</td>\n",
              "      <td>0.000000</td>\n",
              "      <td>-9.000000</td>\n",
              "      <td>-9.000000</td>\n",
              "      <td>0.000000</td>\n",
              "      <td>0.000000</td>\n",
              "    </tr>\n",
              "    <tr>\n",
              "      <th>75%</th>\n",
              "      <td>2.014081e+11</td>\n",
              "      <td>2014.000000</td>\n",
              "      <td>9.000000</td>\n",
              "      <td>23.000000</td>\n",
              "      <td>0.000000</td>\n",
              "      <td>160.000000</td>\n",
              "      <td>10.000000</td>\n",
              "      <td>34.685087</td>\n",
              "      <td>6.871033e+01</td>\n",
              "      <td>1.000000</td>\n",
              "      <td>0.000000</td>\n",
              "      <td>1.000000</td>\n",
              "      <td>1.000000</td>\n",
              "      <td>1.000000</td>\n",
              "      <td>0.000000</td>\n",
              "      <td>1.000000</td>\n",
              "      <td>0.000000</td>\n",
              "      <td>1.000000</td>\n",
              "      <td>0.000000</td>\n",
              "      <td>3.000000</td>\n",
              "      <td>7.000000</td>\n",
              "      <td>7.000000</td>\n",
              "      <td>14.000000</td>\n",
              "      <td>74.000000</td>\n",
              "      <td>173.000000</td>\n",
              "      <td>14.000000</td>\n",
              "      <td>69.000000</td>\n",
              "      <td>182.000000</td>\n",
              "      <td>14.000000</td>\n",
              "      <td>73.000000</td>\n",
              "      <td>182.000000</td>\n",
              "      <td>0.000000</td>\n",
              "      <td>1.000000</td>\n",
              "      <td>0.000000</td>\n",
              "      <td>0.000000</td>\n",
              "      <td>1.000000</td>\n",
              "      <td>0.000000</td>\n",
              "      <td>0.000000</td>\n",
              "      <td>8.000000</td>\n",
              "      <td>1.000000</td>\n",
              "      <td>10.000000</td>\n",
              "      <td>1.000000</td>\n",
              "      <td>9.000000</td>\n",
              "      <td>0.000000</td>\n",
              "      <td>6.000000</td>\n",
              "      <td>16.000000</td>\n",
              "      <td>8.000000</td>\n",
              "      <td>18.000000</td>\n",
              "      <td>9.000000</td>\n",
              "      <td>20.000000</td>\n",
              "      <td>6.000000</td>\n",
              "      <td>16.000000</td>\n",
              "      <td>2.000000</td>\n",
              "      <td>0.000000</td>\n",
              "      <td>0.000000</td>\n",
              "      <td>2.000000</td>\n",
              "      <td>0.000000</td>\n",
              "      <td>0.000000</td>\n",
              "      <td>1.000000</td>\n",
              "      <td>4.000000</td>\n",
              "      <td>1.000000e+03</td>\n",
              "      <td>0.000000</td>\n",
              "      <td>4.000000</td>\n",
              "      <td>0.000000</td>\n",
              "      <td>0.000000</td>\n",
              "      <td>4.000000</td>\n",
              "      <td>0.000000</td>\n",
              "      <td>4.000000e+05</td>\n",
              "      <td>0.000000e+00</td>\n",
              "      <td>1.273412e+03</td>\n",
              "      <td>0.000000</td>\n",
              "      <td>7.000000</td>\n",
              "      <td>1.000000</td>\n",
              "      <td>0.000000</td>\n",
              "      <td>0.000000</td>\n",
              "      <td>0.000000</td>\n",
              "      <td>0.000000</td>\n",
              "    </tr>\n",
              "    <tr>\n",
              "      <th>max</th>\n",
              "      <td>2.017123e+11</td>\n",
              "      <td>2017.000000</td>\n",
              "      <td>12.000000</td>\n",
              "      <td>31.000000</td>\n",
              "      <td>1.000000</td>\n",
              "      <td>1004.000000</td>\n",
              "      <td>12.000000</td>\n",
              "      <td>74.633553</td>\n",
              "      <td>1.793667e+02</td>\n",
              "      <td>5.000000</td>\n",
              "      <td>1.000000</td>\n",
              "      <td>1.000000</td>\n",
              "      <td>1.000000</td>\n",
              "      <td>1.000000</td>\n",
              "      <td>1.000000</td>\n",
              "      <td>5.000000</td>\n",
              "      <td>1.000000</td>\n",
              "      <td>1.000000</td>\n",
              "      <td>1.000000</td>\n",
              "      <td>9.000000</td>\n",
              "      <td>9.000000</td>\n",
              "      <td>8.000000</td>\n",
              "      <td>22.000000</td>\n",
              "      <td>113.000000</td>\n",
              "      <td>1004.000000</td>\n",
              "      <td>22.000000</td>\n",
              "      <td>113.000000</td>\n",
              "      <td>1004.000000</td>\n",
              "      <td>22.000000</td>\n",
              "      <td>113.000000</td>\n",
              "      <td>1004.000000</td>\n",
              "      <td>1.000000</td>\n",
              "      <td>1.000000</td>\n",
              "      <td>1.000000</td>\n",
              "      <td>1.000000</td>\n",
              "      <td>25000.000000</td>\n",
              "      <td>406.000000</td>\n",
              "      <td>1.000000</td>\n",
              "      <td>10.000000</td>\n",
              "      <td>1.000000</td>\n",
              "      <td>10.000000</td>\n",
              "      <td>1.000000</td>\n",
              "      <td>10.000000</td>\n",
              "      <td>1.000000</td>\n",
              "      <td>13.000000</td>\n",
              "      <td>31.000000</td>\n",
              "      <td>13.000000</td>\n",
              "      <td>31.000000</td>\n",
              "      <td>13.000000</td>\n",
              "      <td>28.000000</td>\n",
              "      <td>12.000000</td>\n",
              "      <td>28.000000</td>\n",
              "      <td>1570.000000</td>\n",
              "      <td>1360.000000</td>\n",
              "      <td>500.000000</td>\n",
              "      <td>8191.000000</td>\n",
              "      <td>751.000000</td>\n",
              "      <td>200.000000</td>\n",
              "      <td>1.000000</td>\n",
              "      <td>4.000000</td>\n",
              "      <td>2.700000e+09</td>\n",
              "      <td>1.000000</td>\n",
              "      <td>17000.000000</td>\n",
              "      <td>86.000000</td>\n",
              "      <td>999.000000</td>\n",
              "      <td>2454.000000</td>\n",
              "      <td>1.000000</td>\n",
              "      <td>1.000000e+09</td>\n",
              "      <td>1.320000e+08</td>\n",
              "      <td>2.750000e+08</td>\n",
              "      <td>48000.000000</td>\n",
              "      <td>7.000000</td>\n",
              "      <td>2769.000000</td>\n",
              "      <td>1.000000</td>\n",
              "      <td>1.000000</td>\n",
              "      <td>1.000000</td>\n",
              "      <td>1.000000</td>\n",
              "    </tr>\n",
              "  </tbody>\n",
              "</table>\n",
              "</div>"
            ],
            "text/plain": [
              "            eventid          iyear  ...       INT_MISC        INT_ANY\n",
              "count  1.816910e+05  181691.000000  ...  181691.000000  181691.000000\n",
              "mean   2.002705e+11    2002.638997  ...       0.090010      -3.945952\n",
              "std    1.325957e+09      13.259430  ...       0.568457       4.691325\n",
              "min    1.970000e+11    1970.000000  ...      -9.000000      -9.000000\n",
              "25%    1.991021e+11    1991.000000  ...       0.000000      -9.000000\n",
              "50%    2.009022e+11    2009.000000  ...       0.000000       0.000000\n",
              "75%    2.014081e+11    2014.000000  ...       0.000000       0.000000\n",
              "max    2.017123e+11    2017.000000  ...       1.000000       1.000000\n",
              "\n",
              "[8 rows x 77 columns]"
            ]
          },
          "metadata": {},
          "execution_count": 7
        }
      ]
    },
    {
      "cell_type": "code",
      "metadata": {
        "colab": {
          "base_uri": "https://localhost:8080/"
        },
        "id": "kO_lnWLeaGi9",
        "outputId": "d5729a16-ae81-4e3c-ae38-2e465e0a3db4"
      },
      "source": [
        "print(list(df.columns))"
      ],
      "execution_count": 8,
      "outputs": [
        {
          "output_type": "stream",
          "name": "stdout",
          "text": [
            "['eventid', 'iyear', 'imonth', 'iday', 'approxdate', 'extended', 'resolution', 'country', 'country_txt', 'region', 'region_txt', 'provstate', 'city', 'latitude', 'longitude', 'specificity', 'vicinity', 'location', 'summary', 'crit1', 'crit2', 'crit3', 'doubtterr', 'alternative', 'alternative_txt', 'multiple', 'success', 'suicide', 'attacktype1', 'attacktype1_txt', 'attacktype2', 'attacktype2_txt', 'attacktype3', 'attacktype3_txt', 'targtype1', 'targtype1_txt', 'targsubtype1', 'targsubtype1_txt', 'corp1', 'target1', 'natlty1', 'natlty1_txt', 'targtype2', 'targtype2_txt', 'targsubtype2', 'targsubtype2_txt', 'corp2', 'target2', 'natlty2', 'natlty2_txt', 'targtype3', 'targtype3_txt', 'targsubtype3', 'targsubtype3_txt', 'corp3', 'target3', 'natlty3', 'natlty3_txt', 'gname', 'gsubname', 'gname2', 'gsubname2', 'gname3', 'gsubname3', 'motive', 'guncertain1', 'guncertain2', 'guncertain3', 'individual', 'nperps', 'nperpcap', 'claimed', 'claimmode', 'claimmode_txt', 'claim2', 'claimmode2', 'claimmode2_txt', 'claim3', 'claimmode3', 'claimmode3_txt', 'compclaim', 'weaptype1', 'weaptype1_txt', 'weapsubtype1', 'weapsubtype1_txt', 'weaptype2', 'weaptype2_txt', 'weapsubtype2', 'weapsubtype2_txt', 'weaptype3', 'weaptype3_txt', 'weapsubtype3', 'weapsubtype3_txt', 'weaptype4', 'weaptype4_txt', 'weapsubtype4', 'weapsubtype4_txt', 'weapdetail', 'nkill', 'nkillus', 'nkillter', 'nwound', 'nwoundus', 'nwoundte', 'property', 'propextent', 'propextent_txt', 'propvalue', 'propcomment', 'ishostkid', 'nhostkid', 'nhostkidus', 'nhours', 'ndays', 'divert', 'kidhijcountry', 'ransom', 'ransomamt', 'ransomamtus', 'ransompaid', 'ransompaidus', 'ransomnote', 'hostkidoutcome', 'hostkidoutcome_txt', 'nreleased', 'addnotes', 'scite1', 'scite2', 'scite3', 'dbsource', 'INT_LOG', 'INT_IDEO', 'INT_MISC', 'INT_ANY', 'related']\n"
          ]
        }
      ]
    },
    {
      "cell_type": "markdown",
      "metadata": {
        "id": "b5zJuR55abvV"
      },
      "source": [
        "## Droping the columns which contains more than 80 percent of null values"
      ]
    },
    {
      "cell_type": "code",
      "metadata": {
        "id": "9eNhbJnSahiA"
      },
      "source": [
        "def missing_values(df, percentage):\n",
        "\n",
        "    columns = df.columns\n",
        "    percent_missing = df.isnull().sum() * 100 / len(df)\n",
        "    missing_value_df = pd.DataFrame({'column_name': columns,\n",
        "                                 'percent_missing': percent_missing})\n",
        "\n",
        "    missing_drop = list(missing_value_df[missing_value_df.percent_missing>percentage].column_name)\n",
        "    df = df.drop(missing_drop, axis=1)\n",
        "    return df"
      ],
      "execution_count": 9,
      "outputs": []
    },
    {
      "cell_type": "code",
      "metadata": {
        "id": "Xph6jahjaF_t"
      },
      "source": [
        "df=df.drop(df.columns[df.apply(lambda col: col.isnull().sum()/len(df)>0.80)],axis=1)"
      ],
      "execution_count": 10,
      "outputs": []
    },
    {
      "cell_type": "code",
      "metadata": {
        "colab": {
          "base_uri": "https://localhost:8080/"
        },
        "id": "QypQM1yAawpj",
        "outputId": "09a9e15a-fbbb-41fd-86b9-8e1f96213e66"
      },
      "source": [
        "df.shape"
      ],
      "execution_count": 11,
      "outputs": [
        {
          "output_type": "execute_result",
          "data": {
            "text/plain": [
              "(181691, 67)"
            ]
          },
          "metadata": {},
          "execution_count": 11
        }
      ]
    },
    {
      "cell_type": "markdown",
      "metadata": {
        "id": "jpwLd8n8a5G9"
      },
      "source": [
        "## Droping the unwanted columns"
      ]
    },
    {
      "cell_type": "code",
      "metadata": {
        "id": "SxCcJU98a-cQ"
      },
      "source": [
        "df=df.drop(columns=['extended','specificity', 'vicinity', 'crit1', 'crit2', 'crit3','doubtterr', 'multiple','attacktype1',\n",
        "                    'guncertain1', 'individual', 'nkillus','nwoundus','scite1','scite2','scite3','propvalue','propcomment',\n",
        "                    'property', 'ishostkid', 'dbsource','INT_LOG','nwoundte','weapsubtype1', \n",
        "                    'INT_IDEO', 'INT_MISC', 'INT_ANY','ransom','scite1','scite2','scite3','nperps'])"
      ],
      "execution_count": 12,
      "outputs": []
    },
    {
      "cell_type": "code",
      "metadata": {
        "colab": {
          "base_uri": "https://localhost:8080/"
        },
        "id": "5OMrUZuKbIEB",
        "outputId": "fd5bef20-d7eb-468f-c10a-5625e4b49e7f"
      },
      "source": [
        "# Prints the total number of rows and columns present in a dataFrame after droping the unwanted columns\n",
        "df.shape"
      ],
      "execution_count": 13,
      "outputs": [
        {
          "output_type": "execute_result",
          "data": {
            "text/plain": [
              "(181691, 38)"
            ]
          },
          "metadata": {},
          "execution_count": 13
        }
      ]
    },
    {
      "cell_type": "code",
      "metadata": {
        "colab": {
          "base_uri": "https://localhost:8080/"
        },
        "id": "nQU5CF1wbPPI",
        "outputId": "62176096-257d-4170-ff06-f9917e465585"
      },
      "source": [
        "# to print the columns present in the data frame after droping the unwanted columns\n",
        "df.columns"
      ],
      "execution_count": 14,
      "outputs": [
        {
          "output_type": "execute_result",
          "data": {
            "text/plain": [
              "Index(['eventid', 'iyear', 'imonth', 'iday', 'country', 'country_txt',\n",
              "       'region', 'region_txt', 'provstate', 'city', 'latitude', 'longitude',\n",
              "       'location', 'summary', 'success', 'suicide', 'attacktype1_txt',\n",
              "       'targtype1', 'targtype1_txt', 'targsubtype1', 'targsubtype1_txt',\n",
              "       'corp1', 'target1', 'natlty1', 'natlty1_txt', 'gname', 'motive',\n",
              "       'nperpcap', 'claimed', 'weaptype1', 'weaptype1_txt', 'weapsubtype1_txt',\n",
              "       'weapdetail', 'nkill', 'nkillter', 'nwound', 'propextent',\n",
              "       'propextent_txt'],\n",
              "      dtype='object')"
            ]
          },
          "metadata": {},
          "execution_count": 14
        }
      ]
    },
    {
      "cell_type": "markdown",
      "metadata": {
        "id": "_f5tJplKbXnt"
      },
      "source": [
        "## Handling missing value"
      ]
    },
    {
      "cell_type": "code",
      "metadata": {
        "colab": {
          "base_uri": "https://localhost:8080/"
        },
        "id": "-F9o61EPa-JC",
        "outputId": "29e80c3a-a4cb-4e71-fef1-10d9a6f5fd86"
      },
      "source": [
        "df.isnull().sum() #number of null values in each column"
      ],
      "execution_count": 15,
      "outputs": [
        {
          "output_type": "execute_result",
          "data": {
            "text/plain": [
              "eventid                  0\n",
              "iyear                    0\n",
              "imonth                   0\n",
              "iday                     0\n",
              "country                  0\n",
              "country_txt              0\n",
              "region                   0\n",
              "region_txt               0\n",
              "provstate              421\n",
              "city                   434\n",
              "latitude              4556\n",
              "longitude             4557\n",
              "location            126196\n",
              "summary              66129\n",
              "success                  0\n",
              "suicide                  0\n",
              "attacktype1_txt          0\n",
              "targtype1                0\n",
              "targtype1_txt            0\n",
              "targsubtype1         10373\n",
              "targsubtype1_txt     10373\n",
              "corp1                42550\n",
              "target1                636\n",
              "natlty1               1559\n",
              "natlty1_txt           1559\n",
              "gname                    0\n",
              "motive              131130\n",
              "nperpcap             69489\n",
              "claimed              66120\n",
              "weaptype1                0\n",
              "weaptype1_txt            0\n",
              "weapsubtype1_txt     20768\n",
              "weapdetail           67670\n",
              "nkill                10313\n",
              "nkillter             66958\n",
              "nwound               16311\n",
              "propextent          117626\n",
              "propextent_txt      117626\n",
              "dtype: int64"
            ]
          },
          "metadata": {},
          "execution_count": 15
        }
      ]
    },
    {
      "cell_type": "markdown",
      "metadata": {
        "id": "g_41XIhzbmGV"
      },
      "source": [
        "## Renaming the columns"
      ]
    },
    {
      "cell_type": "code",
      "metadata": {
        "id": "WgTdrNMOa99U"
      },
      "source": [
        "df=df.rename(columns={'eventid':'event_id','iyear':'year','imonth':'month','iday':'day','country_txt':'country_name','region_txt':'region_name','attacktype1_txt':'type_of_attack',\n",
        "                      'targtype1_txt':'target_type','targsubtype1_txt':'sub_target_type','gname':'terrorist_gang_name', 'weaptype1_txt':'weapon_type', 'nkill':'number_of_kill',\n",
        "                      'nwound':'number_of_wound','targtype1':'target_type1','weaptype1':'weapon_type1','natlty1':'nationality'})"
      ],
      "execution_count": 16,
      "outputs": []
    },
    {
      "cell_type": "markdown",
      "metadata": {
        "id": "kU6dZ5spbyM8"
      },
      "source": [
        "Now lets plot them all"
      ]
    },
    {
      "cell_type": "code",
      "metadata": {
        "colab": {
          "base_uri": "https://localhost:8080/",
          "height": 0
        },
        "id": "d5KXSsc_b0Md",
        "outputId": "ed6dc7eb-b10e-4807-fc5b-b92e48e2c497"
      },
      "source": [
        "df.hist(figsize=(16, 20), bins=50, xlabelsize=8, ylabelsize=8);"
      ],
      "execution_count": 17,
      "outputs": [
        {
          "output_type": "display_data",
          "data": {
            "image/png": "[encoded data removed]",
            "text/plain": [
              "<Figure size 1152x1440 with 20 Axes>"
            ]
          },
          "metadata": {
            "needs_background": "light"
          }
        }
      ]
    },
    {
      "cell_type": "code",
      "metadata": {
        "id": "HcBPJMrDi8IX"
      },
      "source": [
        "# To calculate the total number of attacks in a particular years\n",
        "attacks_in_a_year = df[\"year\"].value_counts()\n",
        "attacks_in_a_year.sort_index(inplace=True)"
      ],
      "execution_count": 18,
      "outputs": []
    },
    {
      "cell_type": "code",
      "metadata": {
        "colab": {
          "base_uri": "https://localhost:8080/"
        },
        "id": "2KqR5z0ojCSM",
        "outputId": "3336124f-a3ba-40cd-c538-3f7a5dc0062b"
      },
      "source": [
        "attacks_in_a_year"
      ],
      "execution_count": 19,
      "outputs": [
        {
          "output_type": "execute_result",
          "data": {
            "text/plain": [
              "1970      651\n",
              "1971      471\n",
              "1972      568\n",
              "1973      473\n",
              "1974      581\n",
              "1975      740\n",
              "1976      923\n",
              "1977     1319\n",
              "1978     1526\n",
              "1979     2662\n",
              "1980     2662\n",
              "1981     2586\n",
              "1982     2544\n",
              "1983     2870\n",
              "1984     3495\n",
              "1985     2915\n",
              "1986     2860\n",
              "1987     3183\n",
              "1988     3721\n",
              "1989     4324\n",
              "1990     3887\n",
              "1991     4683\n",
              "1992     5071\n",
              "1994     3456\n",
              "1995     3081\n",
              "1996     3058\n",
              "1997     3197\n",
              "1998      934\n",
              "1999     1395\n",
              "2000     1814\n",
              "2001     1906\n",
              "2002     1333\n",
              "2003     1278\n",
              "2004     1166\n",
              "2005     2017\n",
              "2006     2758\n",
              "2007     3242\n",
              "2008     4805\n",
              "2009     4721\n",
              "2010     4826\n",
              "2011     5076\n",
              "2012     8522\n",
              "2013    12036\n",
              "2014    16903\n",
              "2015    14965\n",
              "2016    13587\n",
              "2017    10900\n",
              "Name: year, dtype: int64"
            ]
          },
          "metadata": {},
          "execution_count": 19
        }
      ]
    },
    {
      "cell_type": "markdown",
      "metadata": {
        "id": "pH9n_J-9jJ-s"
      },
      "source": [
        "## total attacks by terrorists"
      ]
    },
    {
      "cell_type": "code",
      "metadata": {
        "colab": {
          "base_uri": "https://localhost:8080/"
        },
        "id": "m12aR-YqjL_V",
        "outputId": "228d1b03-cd07-4e92-f99b-cef088bb48e9"
      },
      "source": [
        "attacks_in_a_year.sum()"
      ],
      "execution_count": 20,
      "outputs": [
        {
          "output_type": "execute_result",
          "data": {
            "text/plain": [
              "181691"
            ]
          },
          "metadata": {},
          "execution_count": 20
        }
      ]
    },
    {
      "cell_type": "code",
      "metadata": {
        "colab": {
          "base_uri": "https://localhost:8080/"
        },
        "id": "-8HNsgU-a9cC",
        "outputId": "d7e144f9-4297-479d-d05c-8736cbcd530a"
      },
      "source": [
        "# to know in which year maximum terrorist attacks are done \n",
        "year_of_max_attacks=df['year'].value_counts()\n",
        "year_of_max_attacks[:1]"
      ],
      "execution_count": 21,
      "outputs": [
        {
          "output_type": "execute_result",
          "data": {
            "text/plain": [
              "2014    16903\n",
              "Name: year, dtype: int64"
            ]
          },
          "metadata": {},
          "execution_count": 21
        }
      ]
    },
    {
      "cell_type": "code",
      "metadata": {
        "colab": {
          "base_uri": "https://localhost:8080/",
          "height": 0
        },
        "id": "N8Sm_D-8jbgE",
        "outputId": "b6a24fee-3f5f-479d-8cee-604993d3c62a"
      },
      "source": [
        "plt.rcParams['figure.figsize'] = (10, 5)\n",
        "plt.plot(attacks_in_a_year)\n",
        "plt.title('attacks in a year')\n",
        "plt.ylabel('attack')\n",
        "plt.xlabel('year')"
      ],
      "execution_count": 22,
      "outputs": [
        {
          "output_type": "execute_result",
          "data": {
            "text/plain": [
              "Text(0.5, 0, 'year')"
            ]
          },
          "metadata": {},
          "execution_count": 22
        },
        {
          "output_type": "display_data",
          "data": {
            "image/png": "[encoded data removed]",
            "text/plain": [
              "<Figure size 720x360 with 1 Axes>"
            ]
          },
          "metadata": {
            "needs_background": "light"
          }
        }
      ]
    },
    {
      "cell_type": "code",
      "metadata": {
        "colab": {
          "base_uri": "https://localhost:8080/",
          "height": 0
        },
        "id": "08hEqx__jmUQ",
        "outputId": "9aec0e3d-0aa2-4306-f8ba-c35ab9c50cf2"
      },
      "source": [
        "x= df['year'].unique()\n",
        "y= df['year'].value_counts().sort_index()\n",
        "plt.figure(figsize=(15,5))\n",
        "plt.bar(x, y,color='maroon',width=0.5)\n",
        "plt.xlabel(\"Years\")\n",
        "plt.ylabel(\"No. of attacks\")\n",
        "plt.title(\"Number of attacks in different years\")\n",
        "plt.show()"
      ],
      "execution_count": 23,
      "outputs": [
        {
          "output_type": "display_data",
          "data": {
            "image/png": "[encoded data removed]",
            "text/plain": [
              "<Figure size 1080x360 with 1 Axes>"
            ]
          },
          "metadata": {
            "needs_background": "light"
          }
        }
      ]
    },
    {
      "cell_type": "markdown",
      "metadata": {
        "id": "RMZPNE5Ojw8B"
      },
      "source": [
        "## To know which month of the year and in which year maximum attacks were done"
      ]
    },
    {
      "cell_type": "code",
      "metadata": {
        "id": "6ff1qQp7j4P4"
      },
      "source": [
        "grouped=df.groupby(['year','month'])['month'].count().unstack()"
      ],
      "execution_count": 24,
      "outputs": []
    },
    {
      "cell_type": "code",
      "metadata": {
        "colab": {
          "base_uri": "https://localhost:8080/",
          "height": 382
        },
        "id": "PVymvasejmRX",
        "outputId": "bc7bc02c-e7cc-4a58-ae3a-f9bf5bce12c3"
      },
      "source": [
        "plt.rcParams['figure.figsize'] = (15, 5)\n",
        "grouped.plot(kind='bar')\n",
        "plt.title('attacks')\n",
        "plt.ylabel('Number_of_attacks')\n",
        "plt.xlabel('year')"
      ],
      "execution_count": 25,
      "outputs": [
        {
          "output_type": "execute_result",
          "data": {
            "text/plain": [
              "Text(0.5, 0, 'year')"
            ]
          },
          "metadata": {},
          "execution_count": 25
        },
        {
          "output_type": "display_data",
          "data": {
            "image/png": "[encoded data removed]",
            "text/plain": [
              "<Figure size 1080x360 with 1 Axes>"
            ]
          },
          "metadata": {
            "needs_background": "light"
          }
        }
      ]
    },
    {
      "cell_type": "code",
      "metadata": {
        "colab": {
          "base_uri": "https://localhost:8080/",
          "height": 382
        },
        "id": "elrFBJT6kLFg",
        "outputId": "e4acaa8b-1e46-4eba-ea3a-2648d8213709"
      },
      "source": [
        "plt.rcParams['figure.figsize'] = (20, 5)\n",
        "grouped.tail().plot(kind='bar')\n",
        "plt.title('attacks')\n",
        "plt.ylabel('Number_of_attacks')\n",
        "plt.xlabel('year')"
      ],
      "execution_count": 26,
      "outputs": [
        {
          "output_type": "execute_result",
          "data": {
            "text/plain": [
              "Text(0.5, 0, 'year')"
            ]
          },
          "metadata": {},
          "execution_count": 26
        },
        {
          "output_type": "display_data",
          "data": {
            "image/png": "[encoded data removed]",
            "text/plain": [
              "<Figure size 1440x360 with 1 Axes>"
            ]
          },
          "metadata": {
            "needs_background": "light"
          }
        }
      ]
    },
    {
      "cell_type": "code",
      "metadata": {
        "colab": {
          "base_uri": "https://localhost:8080/",
          "height": 35
        },
        "id": "DiFYJ3xQkfZZ",
        "outputId": "8f544f16-76db-483f-9524-2b11a74d97da"
      },
      "source": [
        "# To know the which terrorist gang has attacked the most till date\n",
        "most_attacked_group=df['terrorist_gang_name'][df['year'].value_counts().max()]\n",
        "most_attacked_group"
      ],
      "execution_count": 27,
      "outputs": [
        {
          "output_type": "execute_result",
          "data": {
            "application/vnd.google.colaboratory.intrinsic+json": {
              "type": "string"
            },
            "text/plain": [
              "'Basque Fatherland and Freedom (ETA)'"
            ]
          },
          "metadata": {},
          "execution_count": 27
        }
      ]
    },
    {
      "cell_type": "code",
      "metadata": {
        "colab": {
          "base_uri": "https://localhost:8080/"
        },
        "id": "WLixWE9djbRj",
        "outputId": "c186a71b-2d82-4959-fe3b-2a135d7adda8"
      },
      "source": [
        "# most attacked countries by the terrorist\n",
        "most_attacked_countrys=df['country_name'][df['country_name'].value_counts()]\n",
        "most_attacked_countrys.head() # Prints the top 5 most attacked countries"
      ],
      "execution_count": 28,
      "outputs": [
        {
          "output_type": "execute_result",
          "data": {
            "text/plain": [
              "24636      El Salvador\n",
              "14368             Peru\n",
              "12731      El Salvador\n",
              "11960    United States\n",
              "8306         Nicaragua\n",
              "Name: country_name, dtype: object"
            ]
          },
          "metadata": {},
          "execution_count": 28
        }
      ]
    },
    {
      "cell_type": "code",
      "metadata": {
        "colab": {
          "base_uri": "https://localhost:8080/",
          "height": 388
        },
        "id": "e_2medetkuEx",
        "outputId": "4a59edc4-c745-44f9-cd77-d1590b948509"
      },
      "source": [
        "# Know the most attacked regions\n",
        "most_attacked_region=pd.DataFrame(df['region_name'].value_counts())\n",
        "print(\"most attacked regions :\\n\")\n",
        "print(most_attacked_region.head()) #Prints top 5 attacked regions\n",
        "print(\"\\nleast attacked regions :\\n\")\n",
        "most_attacked_region.tail()  #Prints the 5 least attacked regions"
      ],
      "execution_count": 29,
      "outputs": [
        {
          "output_type": "stream",
          "name": "stdout",
          "text": [
            "most attacked regions :\n",
            "\n",
            "                            region_name\n",
            "Middle East & North Africa        50474\n",
            "South Asia                        44974\n",
            "South America                     18978\n",
            "Sub-Saharan Africa                17550\n",
            "Western Europe                    16639\n",
            "\n",
            "least attacked regions :\n",
            "\n"
          ]
        },
        {
          "output_type": "execute_result",
          "data": {
            "text/html": [
              "<div>\n",
              "<style scoped>\n",
              "    .dataframe tbody tr th:only-of-type {\n",
              "        vertical-align: middle;\n",
              "    }\n",
              "\n",
              "    .dataframe tbody tr th {\n",
              "        vertical-align: top;\n",
              "    }\n",
              "\n",
              "    .dataframe thead th {\n",
              "        text-align: right;\n",
              "    }\n",
              "</style>\n",
              "<table border=\"1\" class=\"dataframe\">\n",
              "  <thead>\n",
              "    <tr style=\"text-align: right;\">\n",
              "      <th></th>\n",
              "      <th>region_name</th>\n",
              "    </tr>\n",
              "  </thead>\n",
              "  <tbody>\n",
              "    <tr>\n",
              "      <th>Eastern Europe</th>\n",
              "      <td>5144</td>\n",
              "    </tr>\n",
              "    <tr>\n",
              "      <th>North America</th>\n",
              "      <td>3456</td>\n",
              "    </tr>\n",
              "    <tr>\n",
              "      <th>East Asia</th>\n",
              "      <td>802</td>\n",
              "    </tr>\n",
              "    <tr>\n",
              "      <th>Central Asia</th>\n",
              "      <td>563</td>\n",
              "    </tr>\n",
              "    <tr>\n",
              "      <th>Australasia &amp; Oceania</th>\n",
              "      <td>282</td>\n",
              "    </tr>\n",
              "  </tbody>\n",
              "</table>\n",
              "</div>"
            ],
            "text/plain": [
              "                       region_name\n",
              "Eastern Europe                5144\n",
              "North America                 3456\n",
              "East Asia                      802\n",
              "Central Asia                   563\n",
              "Australasia & Oceania          282"
            ]
          },
          "metadata": {},
          "execution_count": 29
        }
      ]
    },
    {
      "cell_type": "markdown",
      "metadata": {
        "id": "EXlND0Jpk3lj"
      },
      "source": [
        "## To know how many terrorist attacks are done in the region with corresponding years"
      ]
    },
    {
      "cell_type": "code",
      "metadata": {
        "colab": {
          "base_uri": "https://localhost:8080/",
          "height": 350
        },
        "id": "iBHxMH5vk5vA",
        "outputId": "84cfece1-206f-4977-9d48-311e55f1638b"
      },
      "source": [
        "pd.crosstab(df.year,df.region_name).plot(kind='area',figsize=(10,5))\n",
        "plt.title('Terrorist Activities')\n",
        "plt.ylabel('Number of Attacks')\n",
        "plt.show()"
      ],
      "execution_count": 30,
      "outputs": [
        {
          "output_type": "display_data",
          "data": {
            "image/png": "[encoded data removed]",
            "text/plain": [
              "<Figure size 720x360 with 1 Axes>"
            ]
          },
          "metadata": {
            "needs_background": "light"
          }
        }
      ]
    },
    {
      "cell_type": "code",
      "metadata": {
        "colab": {
          "base_uri": "https://localhost:8080/",
          "height": 383,
          "referenced_widgets": [
            "5b84abccbd844ef89517cbebb373c296",
            "43ec75627b6841919e7236bbe9ef830b",
            "863d7ceab9fa4fb29f1c7d74db409162",
            "d69fd94c4da848d693250266cf5fdda8",
            "31a0a2ad30c04a71a031041d27a7f1a1",
            "0f10f4a836bd4225a4e7d26f907e407d",
            "9c985717995a4532a55fd413ce38557e"
          ]
        },
        "id": "j1TKTCdJCjvH",
        "outputId": "fc0f9f7d-6449-451f-fe08-c06a41bcc4f6"
      },
      "source": [
        "#to check which region is affected by terrorism in each year\n",
        "from ipywidgets import interact, interact_manual\n",
        "@interact\n",
        "\n",
        "def attack_year(year=list(df[\"year\"].unique())):\n",
        "    a=df[df[\"year\"]==year]\n",
        "    return sns.countplot(y=a[\"region_name\"], palette=\"viridis\")"
      ],
      "execution_count": 55,
      "outputs": [
        {
          "output_type": "display_data",
          "data": {
            "application/vnd.jupyter.widget-view+json": {
              "model_id": "5b84abccbd844ef89517cbebb373c296",
              "version_minor": 0,
              "version_major": 2
            },
            "text/plain": [
              "interactive(children=(Dropdown(description='year', options=(1970, 1971, 1972, 1973, 1974, 1975, 1976, 1977, 19…"
            ]
          },
          "metadata": {}
        }
      ]
    },
    {
      "cell_type": "markdown",
      "metadata": {
        "id": "sSQYJr_WmNMY"
      },
      "source": [
        "## To know the different attack types used by terrorists and how many times they used the same"
      ]
    },
    {
      "cell_type": "code",
      "metadata": {
        "colab": {
          "base_uri": "https://localhost:8080/",
          "height": 0
        },
        "id": "hGhmBOYdmPDi",
        "outputId": "b7f23436-14cf-43f8-a700-9ceebf5d7cd9"
      },
      "source": [
        "attack_type=pd.DataFrame(df['type_of_attack'].value_counts())\n",
        "attack_type"
      ],
      "execution_count": 31,
      "outputs": [
        {
          "output_type": "execute_result",
          "data": {
            "text/html": [
              "<div>\n",
              "<style scoped>\n",
              "    .dataframe tbody tr th:only-of-type {\n",
              "        vertical-align: middle;\n",
              "    }\n",
              "\n",
              "    .dataframe tbody tr th {\n",
              "        vertical-align: top;\n",
              "    }\n",
              "\n",
              "    .dataframe thead th {\n",
              "        text-align: right;\n",
              "    }\n",
              "</style>\n",
              "<table border=\"1\" class=\"dataframe\">\n",
              "  <thead>\n",
              "    <tr style=\"text-align: right;\">\n",
              "      <th></th>\n",
              "      <th>type_of_attack</th>\n",
              "    </tr>\n",
              "  </thead>\n",
              "  <tbody>\n",
              "    <tr>\n",
              "      <th>Bombing/Explosion</th>\n",
              "      <td>88255</td>\n",
              "    </tr>\n",
              "    <tr>\n",
              "      <th>Armed Assault</th>\n",
              "      <td>42669</td>\n",
              "    </tr>\n",
              "    <tr>\n",
              "      <th>Assassination</th>\n",
              "      <td>19312</td>\n",
              "    </tr>\n",
              "    <tr>\n",
              "      <th>Hostage Taking (Kidnapping)</th>\n",
              "      <td>11158</td>\n",
              "    </tr>\n",
              "    <tr>\n",
              "      <th>Facility/Infrastructure Attack</th>\n",
              "      <td>10356</td>\n",
              "    </tr>\n",
              "    <tr>\n",
              "      <th>Unknown</th>\n",
              "      <td>7276</td>\n",
              "    </tr>\n",
              "    <tr>\n",
              "      <th>Unarmed Assault</th>\n",
              "      <td>1015</td>\n",
              "    </tr>\n",
              "    <tr>\n",
              "      <th>Hostage Taking (Barricade Incident)</th>\n",
              "      <td>991</td>\n",
              "    </tr>\n",
              "    <tr>\n",
              "      <th>Hijacking</th>\n",
              "      <td>659</td>\n",
              "    </tr>\n",
              "  </tbody>\n",
              "</table>\n",
              "</div>"
            ],
            "text/plain": [
              "                                     type_of_attack\n",
              "Bombing/Explosion                             88255\n",
              "Armed Assault                                 42669\n",
              "Assassination                                 19312\n",
              "Hostage Taking (Kidnapping)                   11158\n",
              "Facility/Infrastructure Attack                10356\n",
              "Unknown                                        7276\n",
              "Unarmed Assault                                1015\n",
              "Hostage Taking (Barricade Incident)             991\n",
              "Hijacking                                       659"
            ]
          },
          "metadata": {},
          "execution_count": 31
        }
      ]
    },
    {
      "cell_type": "markdown",
      "metadata": {
        "id": "x0sVIZzkmZ7U"
      },
      "source": [
        "from the above code, we know that in the most attacks terrorists used bombing/Explosion and armed assault"
      ]
    },
    {
      "cell_type": "markdown",
      "metadata": {
        "id": "K36VhwapmfoH"
      },
      "source": [
        "## Attacks succeeded by the terrorists"
      ]
    },
    {
      "cell_type": "code",
      "metadata": {
        "colab": {
          "base_uri": "https://localhost:8080/",
          "height": 0
        },
        "id": "cEbmmzBSmUH0",
        "outputId": "cfc4f61c-e6b5-4d3c-9856-5df4822a4781"
      },
      "source": [
        "succeeded = df[df['success'] ==1]  \n",
        "succeeded[['terrorist_gang_name','country_name','region_name','type_of_attack']]"
      ],
      "execution_count": 32,
      "outputs": [
        {
          "output_type": "execute_result",
          "data": {
            "text/html": [
              "<div>\n",
              "<style scoped>\n",
              "    .dataframe tbody tr th:only-of-type {\n",
              "        vertical-align: middle;\n",
              "    }\n",
              "\n",
              "    .dataframe tbody tr th {\n",
              "        vertical-align: top;\n",
              "    }\n",
              "\n",
              "    .dataframe thead th {\n",
              "        text-align: right;\n",
              "    }\n",
              "</style>\n",
              "<table border=\"1\" class=\"dataframe\">\n",
              "  <thead>\n",
              "    <tr style=\"text-align: right;\">\n",
              "      <th></th>\n",
              "      <th>terrorist_gang_name</th>\n",
              "      <th>country_name</th>\n",
              "      <th>region_name</th>\n",
              "      <th>type_of_attack</th>\n",
              "    </tr>\n",
              "  </thead>\n",
              "  <tbody>\n",
              "    <tr>\n",
              "      <th>0</th>\n",
              "      <td>MANO-D</td>\n",
              "      <td>Dominican Republic</td>\n",
              "      <td>Central America &amp; Caribbean</td>\n",
              "      <td>Assassination</td>\n",
              "    </tr>\n",
              "    <tr>\n",
              "      <th>1</th>\n",
              "      <td>23rd of September Communist League</td>\n",
              "      <td>Mexico</td>\n",
              "      <td>North America</td>\n",
              "      <td>Hostage Taking (Kidnapping)</td>\n",
              "    </tr>\n",
              "    <tr>\n",
              "      <th>2</th>\n",
              "      <td>Unknown</td>\n",
              "      <td>Philippines</td>\n",
              "      <td>Southeast Asia</td>\n",
              "      <td>Assassination</td>\n",
              "    </tr>\n",
              "    <tr>\n",
              "      <th>3</th>\n",
              "      <td>Unknown</td>\n",
              "      <td>Greece</td>\n",
              "      <td>Western Europe</td>\n",
              "      <td>Bombing/Explosion</td>\n",
              "    </tr>\n",
              "    <tr>\n",
              "      <th>4</th>\n",
              "      <td>Unknown</td>\n",
              "      <td>Japan</td>\n",
              "      <td>East Asia</td>\n",
              "      <td>Facility/Infrastructure Attack</td>\n",
              "    </tr>\n",
              "    <tr>\n",
              "      <th>...</th>\n",
              "      <td>...</td>\n",
              "      <td>...</td>\n",
              "      <td>...</td>\n",
              "      <td>...</td>\n",
              "    </tr>\n",
              "    <tr>\n",
              "      <th>181684</th>\n",
              "      <td>Zeliangrong United Front</td>\n",
              "      <td>India</td>\n",
              "      <td>South Asia</td>\n",
              "      <td>Hostage Taking (Kidnapping)</td>\n",
              "    </tr>\n",
              "    <tr>\n",
              "      <th>181685</th>\n",
              "      <td>Unknown</td>\n",
              "      <td>Afghanistan</td>\n",
              "      <td>South Asia</td>\n",
              "      <td>Bombing/Explosion</td>\n",
              "    </tr>\n",
              "    <tr>\n",
              "      <th>181686</th>\n",
              "      <td>Al-Shabaab</td>\n",
              "      <td>Somalia</td>\n",
              "      <td>Sub-Saharan Africa</td>\n",
              "      <td>Armed Assault</td>\n",
              "    </tr>\n",
              "    <tr>\n",
              "      <th>181687</th>\n",
              "      <td>Muslim extremists</td>\n",
              "      <td>Syria</td>\n",
              "      <td>Middle East &amp; North Africa</td>\n",
              "      <td>Bombing/Explosion</td>\n",
              "    </tr>\n",
              "    <tr>\n",
              "      <th>181688</th>\n",
              "      <td>Bangsamoro Islamic Freedom Movement (BIFM)</td>\n",
              "      <td>Philippines</td>\n",
              "      <td>Southeast Asia</td>\n",
              "      <td>Facility/Infrastructure Attack</td>\n",
              "    </tr>\n",
              "  </tbody>\n",
              "</table>\n",
              "<p>161632 rows × 4 columns</p>\n",
              "</div>"
            ],
            "text/plain": [
              "                               terrorist_gang_name  ...                  type_of_attack\n",
              "0                                           MANO-D  ...                   Assassination\n",
              "1               23rd of September Communist League  ...     Hostage Taking (Kidnapping)\n",
              "2                                          Unknown  ...                   Assassination\n",
              "3                                          Unknown  ...               Bombing/Explosion\n",
              "4                                          Unknown  ...  Facility/Infrastructure Attack\n",
              "...                                            ...  ...                             ...\n",
              "181684                    Zeliangrong United Front  ...     Hostage Taking (Kidnapping)\n",
              "181685                                     Unknown  ...               Bombing/Explosion\n",
              "181686                                  Al-Shabaab  ...                   Armed Assault\n",
              "181687                           Muslim extremists  ...               Bombing/Explosion\n",
              "181688  Bangsamoro Islamic Freedom Movement (BIFM)  ...  Facility/Infrastructure Attack\n",
              "\n",
              "[161632 rows x 4 columns]"
            ]
          },
          "metadata": {},
          "execution_count": 32
        }
      ]
    },
    {
      "cell_type": "markdown",
      "metadata": {
        "id": "q1SjmSWqmv4W"
      },
      "source": [
        "## Failed terrorist attacks"
      ]
    },
    {
      "cell_type": "code",
      "metadata": {
        "colab": {
          "base_uri": "https://localhost:8080/",
          "height": 0
        },
        "id": "RnycxtkFmygR",
        "outputId": "80000d13-ccea-4b5b-c4bf-e3f5885fa217"
      },
      "source": [
        "attacks_failed=df[df['success']==0]\n",
        "attacks_failed[['terrorist_gang_name','country_name','region_name','type_of_attack']]"
      ],
      "execution_count": 33,
      "outputs": [
        {
          "output_type": "execute_result",
          "data": {
            "text/html": [
              "<div>\n",
              "<style scoped>\n",
              "    .dataframe tbody tr th:only-of-type {\n",
              "        vertical-align: middle;\n",
              "    }\n",
              "\n",
              "    .dataframe tbody tr th {\n",
              "        vertical-align: top;\n",
              "    }\n",
              "\n",
              "    .dataframe thead th {\n",
              "        text-align: right;\n",
              "    }\n",
              "</style>\n",
              "<table border=\"1\" class=\"dataframe\">\n",
              "  <thead>\n",
              "    <tr style=\"text-align: right;\">\n",
              "      <th></th>\n",
              "      <th>terrorist_gang_name</th>\n",
              "      <th>country_name</th>\n",
              "      <th>region_name</th>\n",
              "      <th>type_of_attack</th>\n",
              "    </tr>\n",
              "  </thead>\n",
              "  <tbody>\n",
              "    <tr>\n",
              "      <th>6</th>\n",
              "      <td>Tupamaros (Uruguay)</td>\n",
              "      <td>Uruguay</td>\n",
              "      <td>South America</td>\n",
              "      <td>Assassination</td>\n",
              "    </tr>\n",
              "    <tr>\n",
              "      <th>10</th>\n",
              "      <td>Weather Underground, Weathermen</td>\n",
              "      <td>United States</td>\n",
              "      <td>North America</td>\n",
              "      <td>Bombing/Explosion</td>\n",
              "    </tr>\n",
              "    <tr>\n",
              "      <th>23</th>\n",
              "      <td>Student Radicals</td>\n",
              "      <td>United States</td>\n",
              "      <td>North America</td>\n",
              "      <td>Bombing/Explosion</td>\n",
              "    </tr>\n",
              "    <tr>\n",
              "      <th>39</th>\n",
              "      <td>New People's Army (NPA)</td>\n",
              "      <td>Philippines</td>\n",
              "      <td>Southeast Asia</td>\n",
              "      <td>Unknown</td>\n",
              "    </tr>\n",
              "    <tr>\n",
              "      <th>43</th>\n",
              "      <td>Unknown</td>\n",
              "      <td>United States</td>\n",
              "      <td>North America</td>\n",
              "      <td>Facility/Infrastructure Attack</td>\n",
              "    </tr>\n",
              "    <tr>\n",
              "      <th>...</th>\n",
              "      <td>...</td>\n",
              "      <td>...</td>\n",
              "      <td>...</td>\n",
              "      <td>...</td>\n",
              "    </tr>\n",
              "    <tr>\n",
              "      <th>181650</th>\n",
              "      <td>Unknown</td>\n",
              "      <td>Pakistan</td>\n",
              "      <td>South Asia</td>\n",
              "      <td>Bombing/Explosion</td>\n",
              "    </tr>\n",
              "    <tr>\n",
              "      <th>181674</th>\n",
              "      <td>Islamic State of Iraq and the Levant (ISIL)</td>\n",
              "      <td>Iraq</td>\n",
              "      <td>Middle East &amp; North Africa</td>\n",
              "      <td>Unknown</td>\n",
              "    </tr>\n",
              "    <tr>\n",
              "      <th>181679</th>\n",
              "      <td>Islamic State of Iraq and the Levant (ISIL)</td>\n",
              "      <td>Iraq</td>\n",
              "      <td>Middle East &amp; North Africa</td>\n",
              "      <td>Armed Assault</td>\n",
              "    </tr>\n",
              "    <tr>\n",
              "      <th>181689</th>\n",
              "      <td>Unknown</td>\n",
              "      <td>India</td>\n",
              "      <td>South Asia</td>\n",
              "      <td>Bombing/Explosion</td>\n",
              "    </tr>\n",
              "    <tr>\n",
              "      <th>181690</th>\n",
              "      <td>Unknown</td>\n",
              "      <td>Philippines</td>\n",
              "      <td>Southeast Asia</td>\n",
              "      <td>Bombing/Explosion</td>\n",
              "    </tr>\n",
              "  </tbody>\n",
              "</table>\n",
              "<p>20059 rows × 4 columns</p>\n",
              "</div>"
            ],
            "text/plain": [
              "                                terrorist_gang_name  ...                  type_of_attack\n",
              "6                               Tupamaros (Uruguay)  ...                   Assassination\n",
              "10                  Weather Underground, Weathermen  ...               Bombing/Explosion\n",
              "23                                 Student Radicals  ...               Bombing/Explosion\n",
              "39                          New People's Army (NPA)  ...                         Unknown\n",
              "43                                          Unknown  ...  Facility/Infrastructure Attack\n",
              "...                                             ...  ...                             ...\n",
              "181650                                      Unknown  ...               Bombing/Explosion\n",
              "181674  Islamic State of Iraq and the Levant (ISIL)  ...                         Unknown\n",
              "181679  Islamic State of Iraq and the Levant (ISIL)  ...                   Armed Assault\n",
              "181689                                      Unknown  ...               Bombing/Explosion\n",
              "181690                                      Unknown  ...               Bombing/Explosion\n",
              "\n",
              "[20059 rows x 4 columns]"
            ]
          },
          "metadata": {},
          "execution_count": 33
        }
      ]
    },
    {
      "cell_type": "code",
      "metadata": {
        "colab": {
          "base_uri": "https://localhost:8080/"
        },
        "id": "iqaxGkWdm82n",
        "outputId": "faa63148-739c-4d18-efad-c9608cd44a05"
      },
      "source": [
        "print(\"the total attacks made by terrorists : \",len(df.index))\n",
        "print(\"succeeded attacks : \",len(succeeded.index))\n",
        "print(\"attacks_failed    : \",len(attacks_failed.index))"
      ],
      "execution_count": 34,
      "outputs": [
        {
          "output_type": "stream",
          "name": "stdout",
          "text": [
            "the total attacks made by terrorists :  181691\n",
            "succeeded attacks :  161632\n",
            "attacks_failed    :  20059\n"
          ]
        }
      ]
    },
    {
      "cell_type": "code",
      "metadata": {
        "id": "fFyeadTanCwg"
      },
      "source": [
        "def no_of_people_affected(number_of_kill, number_of_wound):\n",
        "  if number_of_kill >0 | number_of_wound>0:\n",
        "    no_of_people_affected = number_of_kill + number_of_wound\n",
        "  else:\n",
        "    no_of_people_affected= np.nan\n",
        "    \n",
        "  return no_of_people_affected"
      ],
      "execution_count": 35,
      "outputs": []
    },
    {
      "cell_type": "code",
      "metadata": {
        "id": "dawlwD1ym8v1"
      },
      "source": [
        "#df['number_of_kill']=df['number_of_kill'].replace(np.nan,0).astype(int)\n",
        "#df['number_of_wound']=df['number_of_wound'].replace(np.nan,0).astype(int)\n",
        "#df['no_of_people_affected'] = df.apply(lambda x: no_of_people_affected(x['number_of_kill'], x['number_of_wound']),axis=1)\n",
        "df['number_of_kill']=df['number_of_kill'].fillna(0)\n",
        "df['number_of_wound']=df['number_of_wound'].fillna(0)\n",
        "df['no_of_people_affected']=df['number_of_kill']+df['number_of_wound']"
      ],
      "execution_count": 36,
      "outputs": []
    },
    {
      "cell_type": "code",
      "metadata": {
        "colab": {
          "base_uri": "https://localhost:8080/"
        },
        "id": "sfKBfd_Pm8Ub",
        "outputId": "26719af5-5f86-4ff7-dfb6-5f14a5a03efe"
      },
      "source": [
        "print(\"The number of people killed by terrorist attack = \",df['number_of_kill'].sum())\n",
        "print(\"The number of people wounded in terrorist attack = \",df['number_of_wound'].sum())\n",
        "print(\"the total number of people affected by terrorist attack = \",df['no_of_people_affected'].sum())"
      ],
      "execution_count": 37,
      "outputs": [
        {
          "output_type": "stream",
          "name": "stdout",
          "text": [
            "The number of people killed by terrorist attack =  411868.0\n",
            "The number of people wounded in terrorist attack =  523869.0\n",
            "the total number of people affected by terrorist attack =  935737.0\n"
          ]
        }
      ]
    },
    {
      "cell_type": "code",
      "metadata": {
        "colab": {
          "base_uri": "https://localhost:8080/"
        },
        "id": "3065kEGUnVUo",
        "outputId": "2cbf1c3b-4853-4338-8aee-baee4d727f65"
      },
      "source": [
        "attacks_done_in_years=df.groupby(['year'])['terrorist_gang_name'].value_counts()\n",
        "attacks_done_in_years"
      ],
      "execution_count": 38,
      "outputs": [
        {
          "output_type": "execute_result",
          "data": {
            "text/plain": [
              "year  terrorist_gang_name                         \n",
              "1970  Unknown                                         115\n",
              "      Left-Wing Militants                             108\n",
              "      Black Nationalists                               69\n",
              "      Student Radicals                                 54\n",
              "      Tupamaros (Uruguay)                              33\n",
              "                                                     ... \n",
              "2017  United Achik National Front (UANF)                1\n",
              "      United Baloch Army (UBA)                          1\n",
              "      United Party for National Development (UPND)      1\n",
              "      United Tribal Liberation Army (UTLA)              1\n",
              "      Zagros Eagles                                     1\n",
              "Name: terrorist_gang_name, Length: 9038, dtype: int64"
            ]
          },
          "metadata": {},
          "execution_count": 38
        }
      ]
    },
    {
      "cell_type": "code",
      "metadata": {
        "colab": {
          "base_uri": "https://localhost:8080/",
          "height": 0
        },
        "id": "JQxtjOo1nf9k",
        "outputId": "9acdb427-5244-4152-fd99-b4b2bae245fd"
      },
      "source": [
        "year=df['year'].unique()\n",
        "attacks_in_year=df.groupby('year').agg('sum')\n",
        "attacks_in_year.head()"
      ],
      "execution_count": 39,
      "outputs": [
        {
          "output_type": "execute_result",
          "data": {
            "text/html": [
              "<div>\n",
              "<style scoped>\n",
              "    .dataframe tbody tr th:only-of-type {\n",
              "        vertical-align: middle;\n",
              "    }\n",
              "\n",
              "    .dataframe tbody tr th {\n",
              "        vertical-align: top;\n",
              "    }\n",
              "\n",
              "    .dataframe thead th {\n",
              "        text-align: right;\n",
              "    }\n",
              "</style>\n",
              "<table border=\"1\" class=\"dataframe\">\n",
              "  <thead>\n",
              "    <tr style=\"text-align: right;\">\n",
              "      <th></th>\n",
              "      <th>event_id</th>\n",
              "      <th>month</th>\n",
              "      <th>day</th>\n",
              "      <th>country</th>\n",
              "      <th>region</th>\n",
              "      <th>latitude</th>\n",
              "      <th>longitude</th>\n",
              "      <th>success</th>\n",
              "      <th>suicide</th>\n",
              "      <th>target_type1</th>\n",
              "      <th>targsubtype1</th>\n",
              "      <th>nationality</th>\n",
              "      <th>nperpcap</th>\n",
              "      <th>claimed</th>\n",
              "      <th>weapon_type1</th>\n",
              "      <th>number_of_kill</th>\n",
              "      <th>nkillter</th>\n",
              "      <th>number_of_wound</th>\n",
              "      <th>propextent</th>\n",
              "      <th>no_of_people_affected</th>\n",
              "    </tr>\n",
              "    <tr>\n",
              "      <th>year</th>\n",
              "      <th></th>\n",
              "      <th></th>\n",
              "      <th></th>\n",
              "      <th></th>\n",
              "      <th></th>\n",
              "      <th></th>\n",
              "      <th></th>\n",
              "      <th></th>\n",
              "      <th></th>\n",
              "      <th></th>\n",
              "      <th></th>\n",
              "      <th></th>\n",
              "      <th></th>\n",
              "      <th></th>\n",
              "      <th></th>\n",
              "      <th></th>\n",
              "      <th></th>\n",
              "      <th></th>\n",
              "      <th></th>\n",
              "      <th></th>\n",
              "    </tr>\n",
              "  </thead>\n",
              "  <tbody>\n",
              "    <tr>\n",
              "      <th>1970</th>\n",
              "      <td>128250997891467</td>\n",
              "      <td>3908</td>\n",
              "      <td>9685</td>\n",
              "      <td>139865</td>\n",
              "      <td>1578</td>\n",
              "      <td>20550.788172</td>\n",
              "      <td>-44920.817635</td>\n",
              "      <td>549</td>\n",
              "      <td>0</td>\n",
              "      <td>3816</td>\n",
              "      <td>22565.0</td>\n",
              "      <td>131511.0</td>\n",
              "      <td>-33390.0</td>\n",
              "      <td>31.0</td>\n",
              "      <td>4523</td>\n",
              "      <td>174.0</td>\n",
              "      <td>15.0</td>\n",
              "      <td>212.0</td>\n",
              "      <td>1278.0</td>\n",
              "      <td>386.0</td>\n",
              "    </tr>\n",
              "    <tr>\n",
              "      <th>1971</th>\n",
              "      <td>92836955370915</td>\n",
              "      <td>2784</td>\n",
              "      <td>7137</td>\n",
              "      <td>128491</td>\n",
              "      <td>1992</td>\n",
              "      <td>17210.235146</td>\n",
              "      <td>-23633.523776</td>\n",
              "      <td>420</td>\n",
              "      <td>0</td>\n",
              "      <td>2413</td>\n",
              "      <td>14389.0</td>\n",
              "      <td>94053.0</td>\n",
              "      <td>-12041.0</td>\n",
              "      <td>26.0</td>\n",
              "      <td>3106</td>\n",
              "      <td>173.0</td>\n",
              "      <td>4.0</td>\n",
              "      <td>82.0</td>\n",
              "      <td>834.0</td>\n",
              "      <td>255.0</td>\n",
              "    </tr>\n",
              "    <tr>\n",
              "      <th>1972</th>\n",
              "      <td>112013627541685</td>\n",
              "      <td>3935</td>\n",
              "      <td>9631</td>\n",
              "      <td>220168</td>\n",
              "      <td>3951</td>\n",
              "      <td>24004.441063</td>\n",
              "      <td>-5828.724123</td>\n",
              "      <td>452</td>\n",
              "      <td>0</td>\n",
              "      <td>4245</td>\n",
              "      <td>24576.0</td>\n",
              "      <td>108450.0</td>\n",
              "      <td>-9984.0</td>\n",
              "      <td>96.0</td>\n",
              "      <td>3362</td>\n",
              "      <td>566.0</td>\n",
              "      <td>18.0</td>\n",
              "      <td>409.0</td>\n",
              "      <td>396.0</td>\n",
              "      <td>975.0</td>\n",
              "    </tr>\n",
              "    <tr>\n",
              "      <th>1973</th>\n",
              "      <td>93325992410863</td>\n",
              "      <td>3021</td>\n",
              "      <td>7141</td>\n",
              "      <td>152606</td>\n",
              "      <td>2924</td>\n",
              "      <td>15718.072031</td>\n",
              "      <td>-9899.455487</td>\n",
              "      <td>433</td>\n",
              "      <td>0</td>\n",
              "      <td>3537</td>\n",
              "      <td>20151.0</td>\n",
              "      <td>86751.0</td>\n",
              "      <td>-1357.0</td>\n",
              "      <td>-9.0</td>\n",
              "      <td>3066</td>\n",
              "      <td>370.0</td>\n",
              "      <td>21.0</td>\n",
              "      <td>495.0</td>\n",
              "      <td>339.0</td>\n",
              "      <td>865.0</td>\n",
              "    </tr>\n",
              "    <tr>\n",
              "      <th>1974</th>\n",
              "      <td>114693333521304</td>\n",
              "      <td>3849</td>\n",
              "      <td>8870</td>\n",
              "      <td>174313</td>\n",
              "      <td>3482</td>\n",
              "      <td>19218.059261</td>\n",
              "      <td>-13098.568639</td>\n",
              "      <td>545</td>\n",
              "      <td>0</td>\n",
              "      <td>3834</td>\n",
              "      <td>21532.0</td>\n",
              "      <td>103473.0</td>\n",
              "      <td>-4146.0</td>\n",
              "      <td>-98.0</td>\n",
              "      <td>3646</td>\n",
              "      <td>539.0</td>\n",
              "      <td>22.0</td>\n",
              "      <td>865.0</td>\n",
              "      <td>563.0</td>\n",
              "      <td>1404.0</td>\n",
              "    </tr>\n",
              "  </tbody>\n",
              "</table>\n",
              "</div>"
            ],
            "text/plain": [
              "             event_id  month  ...  propextent  no_of_people_affected\n",
              "year                          ...                                   \n",
              "1970  128250997891467   3908  ...      1278.0                  386.0\n",
              "1971   92836955370915   2784  ...       834.0                  255.0\n",
              "1972  112013627541685   3935  ...       396.0                  975.0\n",
              "1973   93325992410863   3021  ...       339.0                  865.0\n",
              "1974  114693333521304   3849  ...       563.0                 1404.0\n",
              "\n",
              "[5 rows x 20 columns]"
            ]
          },
          "metadata": {},
          "execution_count": 39
        }
      ]
    },
    {
      "cell_type": "code",
      "metadata": {
        "colab": {
          "base_uri": "https://localhost:8080/",
          "height": 0
        },
        "id": "DHxwYzG5nqii",
        "outputId": "fba1fa21-d7c0-4ba7-9184-0664376793ae"
      },
      "source": [
        "attacks_in_year[['success','number_of_kill','number_of_wound','no_of_people_affected']][-5:]"
      ],
      "execution_count": 40,
      "outputs": [
        {
          "output_type": "execute_result",
          "data": {
            "text/html": [
              "<div>\n",
              "<style scoped>\n",
              "    .dataframe tbody tr th:only-of-type {\n",
              "        vertical-align: middle;\n",
              "    }\n",
              "\n",
              "    .dataframe tbody tr th {\n",
              "        vertical-align: top;\n",
              "    }\n",
              "\n",
              "    .dataframe thead th {\n",
              "        text-align: right;\n",
              "    }\n",
              "</style>\n",
              "<table border=\"1\" class=\"dataframe\">\n",
              "  <thead>\n",
              "    <tr style=\"text-align: right;\">\n",
              "      <th></th>\n",
              "      <th>success</th>\n",
              "      <th>number_of_kill</th>\n",
              "      <th>number_of_wound</th>\n",
              "      <th>no_of_people_affected</th>\n",
              "    </tr>\n",
              "    <tr>\n",
              "      <th>year</th>\n",
              "      <th></th>\n",
              "      <th></th>\n",
              "      <th></th>\n",
              "      <th></th>\n",
              "    </tr>\n",
              "  </thead>\n",
              "  <tbody>\n",
              "    <tr>\n",
              "      <th>2013</th>\n",
              "      <td>10484</td>\n",
              "      <td>22273.0</td>\n",
              "      <td>37688.0</td>\n",
              "      <td>59961.0</td>\n",
              "    </tr>\n",
              "    <tr>\n",
              "      <th>2014</th>\n",
              "      <td>15015</td>\n",
              "      <td>44490.0</td>\n",
              "      <td>41128.0</td>\n",
              "      <td>85618.0</td>\n",
              "    </tr>\n",
              "    <tr>\n",
              "      <th>2015</th>\n",
              "      <td>12676</td>\n",
              "      <td>38853.0</td>\n",
              "      <td>44043.0</td>\n",
              "      <td>82896.0</td>\n",
              "    </tr>\n",
              "    <tr>\n",
              "      <th>2016</th>\n",
              "      <td>10975</td>\n",
              "      <td>34871.0</td>\n",
              "      <td>40001.0</td>\n",
              "      <td>74872.0</td>\n",
              "    </tr>\n",
              "    <tr>\n",
              "      <th>2017</th>\n",
              "      <td>8652</td>\n",
              "      <td>26445.0</td>\n",
              "      <td>24927.0</td>\n",
              "      <td>51372.0</td>\n",
              "    </tr>\n",
              "  </tbody>\n",
              "</table>\n",
              "</div>"
            ],
            "text/plain": [
              "      success  number_of_kill  number_of_wound  no_of_people_affected\n",
              "year                                                                 \n",
              "2013    10484         22273.0          37688.0                59961.0\n",
              "2014    15015         44490.0          41128.0                85618.0\n",
              "2015    12676         38853.0          44043.0                82896.0\n",
              "2016    10975         34871.0          40001.0                74872.0\n",
              "2017     8652         26445.0          24927.0                51372.0"
            ]
          },
          "metadata": {},
          "execution_count": 40
        }
      ]
    },
    {
      "cell_type": "code",
      "metadata": {
        "colab": {
          "base_uri": "https://localhost:8080/",
          "height": 0
        },
        "id": "-7p3EMFMnz5h",
        "outputId": "250f23da-9e9e-4b2e-f11e-ce108af706a2"
      },
      "source": [
        "attacks_in_year[['number_of_wound','number_of_kill']].plot()\n",
        "plt.xticks(rotation=45)\n",
        "plt.show()"
      ],
      "execution_count": 41,
      "outputs": [
        {
          "output_type": "display_data",
          "data": {
            "image/png": "[encoded data removed]",
            "text/plain": [
              "<Figure size 1440x360 with 1 Axes>"
            ]
          },
          "metadata": {
            "needs_background": "light"
          }
        }
      ]
    },
    {
      "cell_type": "code",
      "metadata": {
        "colab": {
          "base_uri": "https://localhost:8080/",
          "height": 0
        },
        "id": "rjEuf-Rvn9aN",
        "outputId": "34162153-06b7-4819-9c3e-65a12526dbc3"
      },
      "source": [
        "tgang_kills= df[['terrorist_gang_name','number_of_kill']].groupby(['terrorist_gang_name']).sum().sort_values('number_of_kill', ascending='False').reset_index()\n",
        "tgang_kills.tail()"
      ],
      "execution_count": 42,
      "outputs": [
        {
          "output_type": "execute_result",
          "data": {
            "text/html": [
              "<div>\n",
              "<style scoped>\n",
              "    .dataframe tbody tr th:only-of-type {\n",
              "        vertical-align: middle;\n",
              "    }\n",
              "\n",
              "    .dataframe tbody tr th {\n",
              "        vertical-align: top;\n",
              "    }\n",
              "\n",
              "    .dataframe thead th {\n",
              "        text-align: right;\n",
              "    }\n",
              "</style>\n",
              "<table border=\"1\" class=\"dataframe\">\n",
              "  <thead>\n",
              "    <tr style=\"text-align: right;\">\n",
              "      <th></th>\n",
              "      <th>terrorist_gang_name</th>\n",
              "      <th>number_of_kill</th>\n",
              "    </tr>\n",
              "  </thead>\n",
              "  <tbody>\n",
              "    <tr>\n",
              "      <th>3532</th>\n",
              "      <td>Shining Path (SL)</td>\n",
              "      <td>11601.0</td>\n",
              "    </tr>\n",
              "    <tr>\n",
              "      <th>3533</th>\n",
              "      <td>Boko Haram</td>\n",
              "      <td>20328.0</td>\n",
              "    </tr>\n",
              "    <tr>\n",
              "      <th>3534</th>\n",
              "      <td>Taliban</td>\n",
              "      <td>29410.0</td>\n",
              "    </tr>\n",
              "    <tr>\n",
              "      <th>3535</th>\n",
              "      <td>Islamic State of Iraq and the Levant (ISIL)</td>\n",
              "      <td>38923.0</td>\n",
              "    </tr>\n",
              "    <tr>\n",
              "      <th>3536</th>\n",
              "      <td>Unknown</td>\n",
              "      <td>112367.0</td>\n",
              "    </tr>\n",
              "  </tbody>\n",
              "</table>\n",
              "</div>"
            ],
            "text/plain": [
              "                              terrorist_gang_name  number_of_kill\n",
              "3532                            Shining Path (SL)         11601.0\n",
              "3533                                   Boko Haram         20328.0\n",
              "3534                                      Taliban         29410.0\n",
              "3535  Islamic State of Iraq and the Levant (ISIL)         38923.0\n",
              "3536                                      Unknown        112367.0"
            ]
          },
          "metadata": {},
          "execution_count": 42
        }
      ]
    },
    {
      "cell_type": "code",
      "metadata": {
        "colab": {
          "base_uri": "https://localhost:8080/"
        },
        "id": "GCVbrpqvSaS1",
        "outputId": "f3ccb28a-aa0a-409a-f8aa-44c8a61ee34d"
      },
      "source": [
        "df.columns"
      ],
      "execution_count": 43,
      "outputs": [
        {
          "output_type": "execute_result",
          "data": {
            "text/plain": [
              "Index(['event_id', 'year', 'month', 'day', 'country', 'country_name', 'region',\n",
              "       'region_name', 'provstate', 'city', 'latitude', 'longitude', 'location',\n",
              "       'summary', 'success', 'suicide', 'type_of_attack', 'target_type1',\n",
              "       'target_type', 'targsubtype1', 'sub_target_type', 'corp1', 'target1',\n",
              "       'nationality', 'natlty1_txt', 'terrorist_gang_name', 'motive',\n",
              "       'nperpcap', 'claimed', 'weapon_type1', 'weapon_type',\n",
              "       'weapsubtype1_txt', 'weapdetail', 'number_of_kill', 'nkillter',\n",
              "       'number_of_wound', 'propextent', 'propextent_txt',\n",
              "       'no_of_people_affected'],\n",
              "      dtype='object')"
            ]
          },
          "metadata": {},
          "execution_count": 43
        }
      ]
    },
    {
      "cell_type": "code",
      "metadata": {
        "colab": {
          "base_uri": "https://localhost:8080/",
          "height": 0
        },
        "id": "4cP8lyMUSpVY",
        "outputId": "b65b90ce-d226-489c-ded7-0c0c57341f90"
      },
      "source": [
        "#Terrorist group names and number of killed \n",
        "group_killed= df[['terrorist_gang_name','number_of_kill']].groupby(['terrorist_gang_name'],axis=0).sum().sort_values('number_of_kill', ascending=False).head(15)\n",
        "group_killed.reset_index()"
      ],
      "execution_count": 44,
      "outputs": [
        {
          "output_type": "execute_result",
          "data": {
            "text/html": [
              "<div>\n",
              "<style scoped>\n",
              "    .dataframe tbody tr th:only-of-type {\n",
              "        vertical-align: middle;\n",
              "    }\n",
              "\n",
              "    .dataframe tbody tr th {\n",
              "        vertical-align: top;\n",
              "    }\n",
              "\n",
              "    .dataframe thead th {\n",
              "        text-align: right;\n",
              "    }\n",
              "</style>\n",
              "<table border=\"1\" class=\"dataframe\">\n",
              "  <thead>\n",
              "    <tr style=\"text-align: right;\">\n",
              "      <th></th>\n",
              "      <th>terrorist_gang_name</th>\n",
              "      <th>number_of_kill</th>\n",
              "    </tr>\n",
              "  </thead>\n",
              "  <tbody>\n",
              "    <tr>\n",
              "      <th>0</th>\n",
              "      <td>Unknown</td>\n",
              "      <td>112367.0</td>\n",
              "    </tr>\n",
              "    <tr>\n",
              "      <th>1</th>\n",
              "      <td>Islamic State of Iraq and the Levant (ISIL)</td>\n",
              "      <td>38923.0</td>\n",
              "    </tr>\n",
              "    <tr>\n",
              "      <th>2</th>\n",
              "      <td>Taliban</td>\n",
              "      <td>29410.0</td>\n",
              "    </tr>\n",
              "    <tr>\n",
              "      <th>3</th>\n",
              "      <td>Boko Haram</td>\n",
              "      <td>20328.0</td>\n",
              "    </tr>\n",
              "    <tr>\n",
              "      <th>4</th>\n",
              "      <td>Shining Path (SL)</td>\n",
              "      <td>11601.0</td>\n",
              "    </tr>\n",
              "    <tr>\n",
              "      <th>5</th>\n",
              "      <td>Liberation Tigers of Tamil Eelam (LTTE)</td>\n",
              "      <td>10989.0</td>\n",
              "    </tr>\n",
              "    <tr>\n",
              "      <th>6</th>\n",
              "      <td>Al-Shabaab</td>\n",
              "      <td>9330.0</td>\n",
              "    </tr>\n",
              "    <tr>\n",
              "      <th>7</th>\n",
              "      <td>Farabundo Marti National Liberation Front (FMLN)</td>\n",
              "      <td>8065.0</td>\n",
              "    </tr>\n",
              "    <tr>\n",
              "      <th>8</th>\n",
              "      <td>Nicaraguan Democratic Force (FDN)</td>\n",
              "      <td>6662.0</td>\n",
              "    </tr>\n",
              "    <tr>\n",
              "      <th>9</th>\n",
              "      <td>Tehrik-i-Taliban Pakistan (TTP)</td>\n",
              "      <td>6042.0</td>\n",
              "    </tr>\n",
              "    <tr>\n",
              "      <th>10</th>\n",
              "      <td>Revolutionary Armed Forces of Colombia (FARC)</td>\n",
              "      <td>5661.0</td>\n",
              "    </tr>\n",
              "    <tr>\n",
              "      <th>11</th>\n",
              "      <td>Kurdistan Workers' Party (PKK)</td>\n",
              "      <td>4955.0</td>\n",
              "    </tr>\n",
              "    <tr>\n",
              "      <th>12</th>\n",
              "      <td>New People's Army (NPA)</td>\n",
              "      <td>4386.0</td>\n",
              "    </tr>\n",
              "    <tr>\n",
              "      <th>13</th>\n",
              "      <td>Al-Qaida in Iraq</td>\n",
              "      <td>4381.0</td>\n",
              "    </tr>\n",
              "    <tr>\n",
              "      <th>14</th>\n",
              "      <td>Hutu extremists</td>\n",
              "      <td>4102.0</td>\n",
              "    </tr>\n",
              "  </tbody>\n",
              "</table>\n",
              "</div>"
            ],
            "text/plain": [
              "                                 terrorist_gang_name  number_of_kill\n",
              "0                                            Unknown        112367.0\n",
              "1        Islamic State of Iraq and the Levant (ISIL)         38923.0\n",
              "2                                            Taliban         29410.0\n",
              "3                                         Boko Haram         20328.0\n",
              "4                                  Shining Path (SL)         11601.0\n",
              "5            Liberation Tigers of Tamil Eelam (LTTE)         10989.0\n",
              "6                                         Al-Shabaab          9330.0\n",
              "7   Farabundo Marti National Liberation Front (FMLN)          8065.0\n",
              "8                  Nicaraguan Democratic Force (FDN)          6662.0\n",
              "9                    Tehrik-i-Taliban Pakistan (TTP)          6042.0\n",
              "10     Revolutionary Armed Forces of Colombia (FARC)          5661.0\n",
              "11                    Kurdistan Workers' Party (PKK)          4955.0\n",
              "12                           New People's Army (NPA)          4386.0\n",
              "13                                  Al-Qaida in Iraq          4381.0\n",
              "14                                   Hutu extremists          4102.0"
            ]
          },
          "metadata": {},
          "execution_count": 44
        }
      ]
    },
    {
      "cell_type": "markdown",
      "metadata": {
        "id": "5DBGwGnsTQ5f"
      },
      "source": [
        "##People Killed by each terrorist group in terrorist activity"
      ]
    },
    {
      "cell_type": "code",
      "metadata": {
        "colab": {
          "base_uri": "https://localhost:8080/",
          "height": 688
        },
        "id": "PoB-xk19SMIQ",
        "outputId": "160dac03-9d08-4704-9473-b43c4ec26bf2"
      },
      "source": [
        "## People Killed by each group in terrorist activity\n",
        "plt.subplots(figsize=(12,6))\n",
        "sns.barplot(group_killed.index, group_killed.number_of_kill.values,palette=\"crest\")\n",
        "plt.title('Number of People Killed by each terroris group')\n",
        "plt.xlabel('Terrorist Groups')\n",
        "plt.ylabel('Number of people killed')\n",
        "plt.xticks(rotation= 75)\n",
        "plt.show()"
      ],
      "execution_count": 45,
      "outputs": [
        {
          "output_type": "stream",
          "name": "stderr",
          "text": [
            "/usr/local/lib/python3.7/dist-packages/seaborn/_decorators.py:43: FutureWarning: Pass the following variables as keyword args: x, y. From version 0.12, the only valid positional argument will be `data`, and passing other arguments without an explicit keyword will result in an error or misinterpretation.\n",
            "  FutureWarning\n"
          ]
        },
        {
          "output_type": "display_data",
          "data": {
            "image/png": "[encoded data removed]",
            "text/plain": [
              "<Figure size 864x432 with 1 Axes>"
            ]
          },
          "metadata": {
            "needs_background": "light"
          }
        }
      ]
    },
    {
      "cell_type": "code",
      "metadata": {
        "colab": {
          "base_uri": "https://localhost:8080/",
          "height": 320
        },
        "id": "mVk9tBfZn9Ty",
        "outputId": "3ab4ac34-ebe4-4594-e6da-ec03ddf0b2b5"
      },
      "source": [
        "df.target_type.value_counts(normalize=True).plot(kind='barh',color='crimson')\n",
        "plt.show()"
      ],
      "execution_count": 46,
      "outputs": [
        {
          "output_type": "display_data",
          "data": {
            "image/png": "[encoded data removed]",
            "text/plain": [
              "<Figure size 1440x360 with 1 Axes>"
            ]
          },
          "metadata": {
            "needs_background": "light"
          }
        }
      ]
    },
    {
      "cell_type": "code",
      "metadata": {
        "colab": {
          "base_uri": "https://localhost:8080/"
        },
        "id": "rfFXCUdAn87w",
        "outputId": "d0c2bc33-3090-46d3-d7c6-45d9704d7e45"
      },
      "source": [
        "df['target_type'].value_counts()"
      ],
      "execution_count": 47,
      "outputs": [
        {
          "output_type": "execute_result",
          "data": {
            "text/plain": [
              "Private Citizens & Property       43511\n",
              "Military                          27984\n",
              "Police                            24506\n",
              "Government (General)              21283\n",
              "Business                          20669\n",
              "Transportation                     6799\n",
              "Utilities                          6023\n",
              "Unknown                            5898\n",
              "Religious Figures/Institutions     4440\n",
              "Educational Institution            4322\n",
              "Government (Diplomatic)            3573\n",
              "Terrorists/Non-State Militia       3039\n",
              "Journalists & Media                2948\n",
              "Violent Political Party            1866\n",
              "Airports & Aircraft                1343\n",
              "Telecommunication                  1009\n",
              "NGO                                 970\n",
              "Tourists                            440\n",
              "Maritime                            351\n",
              "Food or Water Supply                317\n",
              "Abortion Related                    263\n",
              "Other                               137\n",
              "Name: target_type, dtype: int64"
            ]
          },
          "metadata": {},
          "execution_count": 47
        }
      ]
    },
    {
      "cell_type": "markdown",
      "metadata": {
        "id": "kUpjXIu9oPlo"
      },
      "source": [
        "From above outcome, the most attacks were done on private citizens and properties followed by military, police and government"
      ]
    },
    {
      "cell_type": "code",
      "metadata": {
        "colab": {
          "base_uri": "https://localhost:8080/"
        },
        "id": "xSAb49RXoREw",
        "outputId": "cf906649-75d9-43ae-a0b0-f18eab772350"
      },
      "source": [
        "weapon_used=df[['weapon_type']].value_counts()\n",
        "weapon_used"
      ],
      "execution_count": 48,
      "outputs": [
        {
          "output_type": "execute_result",
          "data": {
            "text/plain": [
              "weapon_type                                                                \n",
              "Explosives                                                                     92426\n",
              "Firearms                                                                       58524\n",
              "Unknown                                                                        15157\n",
              "Incendiary                                                                     11135\n",
              "Melee                                                                           3655\n",
              "Chemical                                                                         321\n",
              "Sabotage Equipment                                                               141\n",
              "Vehicle (not to include vehicle-borne explosives, i.e., car or truck bombs)      136\n",
              "Other                                                                            114\n",
              "Biological                                                                        35\n",
              "Fake Weapons                                                                      33\n",
              "Radiological                                                                      14\n",
              "dtype: int64"
            ]
          },
          "metadata": {},
          "execution_count": 48
        }
      ]
    },
    {
      "cell_type": "code",
      "metadata": {
        "colab": {
          "base_uri": "https://localhost:8080/"
        },
        "id": "LZGFLQ1Mod-4",
        "outputId": "2ceb000e-d1c9-4ede-ebff-2356f7d2f66c"
      },
      "source": [
        "weapon_used_by_gang=df.groupby(['year'])['terrorist_gang_name'].value_counts()\n",
        "weapon_used_by_gang"
      ],
      "execution_count": 49,
      "outputs": [
        {
          "output_type": "execute_result",
          "data": {
            "text/plain": [
              "year  terrorist_gang_name                         \n",
              "1970  Unknown                                         115\n",
              "      Left-Wing Militants                             108\n",
              "      Black Nationalists                               69\n",
              "      Student Radicals                                 54\n",
              "      Tupamaros (Uruguay)                              33\n",
              "                                                     ... \n",
              "2017  United Achik National Front (UANF)                1\n",
              "      United Baloch Army (UBA)                          1\n",
              "      United Party for National Development (UPND)      1\n",
              "      United Tribal Liberation Army (UTLA)              1\n",
              "      Zagros Eagles                                     1\n",
              "Name: terrorist_gang_name, Length: 9038, dtype: int64"
            ]
          },
          "metadata": {},
          "execution_count": 49
        }
      ]
    },
    {
      "cell_type": "code",
      "metadata": {
        "colab": {
          "base_uri": "https://localhost:8080/",
          "height": 466
        },
        "id": "PJlw6zsKokXO",
        "outputId": "841d27db-da89-4198-8eb6-6dd16710f274"
      },
      "source": [
        "#plot the pie chart of terrorist gang name categories\n",
        "\n",
        "df1=df.terrorist_gang_name.value_counts(normalize=True,ascending=False)\n",
        "df1.head(10).plot.pie(autopct=\"%.1f%%\",figsize=(10,8))\n",
        "plt.show()"
      ],
      "execution_count": 50,
      "outputs": [
        {
          "output_type": "display_data",
          "data": {
            "image/png": "[encoded data removed]",
            "text/plain": [
              "<Figure size 720x576 with 1 Axes>"
            ]
          },
          "metadata": {}
        }
      ]
    },
    {
      "cell_type": "markdown",
      "metadata": {
        "id": "lgVWYbBYovHw"
      },
      "source": [
        "From the above fig, we can say that maximum terrorists attacks done by are unknown, then followed by Taliban"
      ]
    },
    {
      "cell_type": "code",
      "metadata": {
        "colab": {
          "base_uri": "https://localhost:8080/",
          "height": 342
        },
        "id": "MyFa6ZHcUc-s",
        "outputId": "895267f8-e5dc-4bbe-b9cd-fcd9c4d3b379"
      },
      "source": [
        "#we created a matrix using year, number of kills,number of wounds, and suicide. After that, we are plotting the heatmap using the seaborn library of the matrix\n",
        "sns.heatmap(df[['year','number_of_kill','number_of_wound','suicide']].corr(), annot=True, cmap = 'Reds')"
      ],
      "execution_count": 51,
      "outputs": [
        {
          "output_type": "execute_result",
          "data": {
            "text/plain": [
              "<matplotlib.axes._subplots.AxesSubplot at 0x7ff4d738a690>"
            ]
          },
          "metadata": {},
          "execution_count": 51
        },
        {
          "output_type": "display_data",
          "data": {
            "image/png": "[encoded data removed]",
            "text/plain": [
              "<Figure size 1440x360 with 2 Axes>"
            ]
          },
          "metadata": {
            "needs_background": "light"
          }
        }
      ]
    }
  ]
}